{
  "nbformat": 4,
  "nbformat_minor": 0,
  "metadata": {
    "colab": {
      "name": "Tutorial.ipynb",
      "provenance": [],
      "collapsed_sections": []
    },
    "kernelspec": {
      "name": "python3",
      "display_name": "Python 3"
    }
  },
  "cells": [
    {
      "cell_type": "markdown",
      "metadata": {
        "id": "DGrFue71kM4L",
        "colab_type": "text"
      },
      "source": [
        "# 2019 AAPOR Text Analytics Tutorial\n",
        "### Patrick van Kessel\n",
        "#### Senior Data Scientist, Pew Research Center"
      ]
    },
    {
      "cell_type": "markdown",
      "metadata": {
        "id": "4aoBDUSeyV2U",
        "colab_type": "text"
      },
      "source": [
        "These materials are adapted from workshops I did in 2018 and 2019 for NYAAPOR, the World Bank, and IBM, with a lot of help from an old colleague of mine, Michael Jugovich (now at IBM). You can access a GitHub repository containing this notebook and the data sample here: https://github.com/patrickvankessel/AAPOR-Text-Analysis-2019 "
      ]
    },
    {
      "cell_type": "markdown",
      "metadata": {
        "id": "rL0gxOcrkM4Q",
        "colab_type": "text"
      },
      "source": [
        "## Loading in the data"
      ]
    },
    {
      "cell_type": "markdown",
      "metadata": {
        "collapsed": true,
        "id": "3ds8U65OkM4S",
        "colab_type": "text"
      },
      "source": [
        "We'll use a sample from the Kaggle Amazon Fine Food Reviews dataset. The full dataset can be found here: https://www.kaggle.com/snap/amazon-fine-food-reviews "
      ]
    },
    {
      "cell_type": "code",
      "metadata": {
        "id": "v6IsyAY1kM4T",
        "colab_type": "code",
        "colab": {}
      },
      "source": [
        "import pandas as pd"
      ],
      "execution_count": 0,
      "outputs": []
    },
    {
      "cell_type": "code",
      "metadata": {
        "id": "A-7xdtl7kM4Z",
        "colab_type": "code",
        "colab": {}
      },
      "source": [
        "sample = pd.read_csv(\"https://raw.githubusercontent.com/patrickvankessel/AAPOR-Text-Analysis-2019/master/kaggle_sample.csv\")"
      ],
      "execution_count": 0,
      "outputs": []
    },
    {
      "cell_type": "code",
      "metadata": {
        "id": "ORYcAyfYkM4e",
        "colab_type": "code",
        "outputId": "c84d7868-1c49-427d-9175-4b267d9ba8d0",
        "colab": {
          "base_uri": "https://localhost:8080/",
          "height": 35
        }
      },
      "source": [
        "print(len(sample))"
      ],
      "execution_count": 3,
      "outputs": [
        {
          "output_type": "stream",
          "text": [
            "10000\n"
          ],
          "name": "stdout"
        }
      ]
    },
    {
      "cell_type": "markdown",
      "metadata": {
        "id": "xN6dyIikkM4i",
        "colab_type": "text"
      },
      "source": [
        "Let's see what's in here."
      ]
    },
    {
      "cell_type": "code",
      "metadata": {
        "id": "VfCXzvdhkM4j",
        "colab_type": "code",
        "outputId": "fde57d71-f0e3-4895-e727-252e96507e13",
        "colab": {
          "base_uri": "https://localhost:8080/",
          "height": 621
        }
      },
      "source": [
        "sample.head()"
      ],
      "execution_count": 4,
      "outputs": [
        {
          "output_type": "execute_result",
          "data": {
            "text/html": [
              "<div>\n",
              "<style scoped>\n",
              "    .dataframe tbody tr th:only-of-type {\n",
              "        vertical-align: middle;\n",
              "    }\n",
              "\n",
              "    .dataframe tbody tr th {\n",
              "        vertical-align: top;\n",
              "    }\n",
              "\n",
              "    .dataframe thead th {\n",
              "        text-align: right;\n",
              "    }\n",
              "</style>\n",
              "<table border=\"1\" class=\"dataframe\">\n",
              "  <thead>\n",
              "    <tr style=\"text-align: right;\">\n",
              "      <th></th>\n",
              "      <th>Unnamed: 0</th>\n",
              "      <th>index</th>\n",
              "      <th>Id</th>\n",
              "      <th>ProductId</th>\n",
              "      <th>UserId</th>\n",
              "      <th>ProfileName</th>\n",
              "      <th>HelpfulnessNumerator</th>\n",
              "      <th>HelpfulnessDenominator</th>\n",
              "      <th>Score</th>\n",
              "      <th>Time</th>\n",
              "      <th>Summary</th>\n",
              "      <th>Text</th>\n",
              "    </tr>\n",
              "  </thead>\n",
              "  <tbody>\n",
              "    <tr>\n",
              "      <th>0</th>\n",
              "      <td>0</td>\n",
              "      <td>467510</td>\n",
              "      <td>467511</td>\n",
              "      <td>B003WECB5S</td>\n",
              "      <td>A2G0LDLGXKQFYP</td>\n",
              "      <td>behrlekidsmom</td>\n",
              "      <td>2</td>\n",
              "      <td>2</td>\n",
              "      <td>3</td>\n",
              "      <td>1304640000</td>\n",
              "      <td>Holes in wrappers</td>\n",
              "      <td>The kids said the taste/flavor is fine but A L...</td>\n",
              "    </tr>\n",
              "    <tr>\n",
              "      <th>1</th>\n",
              "      <td>1</td>\n",
              "      <td>291775</td>\n",
              "      <td>291776</td>\n",
              "      <td>B000FVYUFA</td>\n",
              "      <td>A34O5D0QRGV29N</td>\n",
              "      <td>a Dallas reader</td>\n",
              "      <td>1</td>\n",
              "      <td>1</td>\n",
              "      <td>5</td>\n",
              "      <td>1188432000</td>\n",
              "      <td>Absolutely the best!</td>\n",
              "      <td>How can something this good be good for you to...</td>\n",
              "    </tr>\n",
              "    <tr>\n",
              "      <th>2</th>\n",
              "      <td>2</td>\n",
              "      <td>180629</td>\n",
              "      <td>180630</td>\n",
              "      <td>B000CQBZQK</td>\n",
              "      <td>A3ER3V2E06DH7D</td>\n",
              "      <td>A. K. Kaw \"AKK\"</td>\n",
              "      <td>0</td>\n",
              "      <td>1</td>\n",
              "      <td>5</td>\n",
              "      <td>1247529600</td>\n",
              "      <td>Tea meant for a late evening</td>\n",
              "      <td>I love Earl Grey Tea. I have tried Tazo, Twini...</td>\n",
              "    </tr>\n",
              "    <tr>\n",
              "      <th>3</th>\n",
              "      <td>3</td>\n",
              "      <td>412055</td>\n",
              "      <td>412056</td>\n",
              "      <td>B000CQC05K</td>\n",
              "      <td>A39Y02EJ310WJR</td>\n",
              "      <td>Tech Girl \"Wendy\"</td>\n",
              "      <td>2</td>\n",
              "      <td>2</td>\n",
              "      <td>5</td>\n",
              "      <td>1236729600</td>\n",
              "      <td>Full-flavored, delicious tea that you can drin...</td>\n",
              "      <td>This tea is so fruity and full-flavored that i...</td>\n",
              "    </tr>\n",
              "    <tr>\n",
              "      <th>4</th>\n",
              "      <td>4</td>\n",
              "      <td>139779</td>\n",
              "      <td>139780</td>\n",
              "      <td>B001BCXTGS</td>\n",
              "      <td>A1LC1NMRA1ZEDZ</td>\n",
              "      <td>M. Garcia</td>\n",
              "      <td>1</td>\n",
              "      <td>1</td>\n",
              "      <td>5</td>\n",
              "      <td>1244332800</td>\n",
              "      <td>My cat only eats this brand</td>\n",
              "      <td>My cat is not crazy about the snapper and shri...</td>\n",
              "    </tr>\n",
              "  </tbody>\n",
              "</table>\n",
              "</div>"
            ],
            "text/plain": [
              "   Unnamed: 0  ...                                               Text\n",
              "0           0  ...  The kids said the taste/flavor is fine but A L...\n",
              "1           1  ...  How can something this good be good for you to...\n",
              "2           2  ...  I love Earl Grey Tea. I have tried Tazo, Twini...\n",
              "3           3  ...  This tea is so fruity and full-flavored that i...\n",
              "4           4  ...  My cat is not crazy about the snapper and shri...\n",
              "\n",
              "[5 rows x 12 columns]"
            ]
          },
          "metadata": {
            "tags": []
          },
          "execution_count": 4
        }
      ]
    },
    {
      "cell_type": "markdown",
      "metadata": {
        "id": "tG-U3354kM4q",
        "colab_type": "text"
      },
      "source": [
        "### Examine the data"
      ]
    },
    {
      "cell_type": "markdown",
      "metadata": {
        "id": "x155uh5BkM4r",
        "colab_type": "text"
      },
      "source": [
        "Run the cell below a few times, let's take a look at our text and see what it looks like.  Always take a look at your raw data."
      ]
    },
    {
      "cell_type": "code",
      "metadata": {
        "id": "-MjqRrMNkM4s",
        "colab_type": "code",
        "outputId": "6e4b43ed-7752-48dd-8ceb-e1f04efaff1b",
        "colab": {
          "base_uri": "https://localhost:8080/",
          "height": 228
        }
      },
      "source": [
        "sample.sample(10)['Text'].values"
      ],
      "execution_count": 5,
      "outputs": [
        {
          "output_type": "execute_result",
          "data": {
            "text/plain": [
              "array(['Not that I\\'ve tasted this stuff, mind you, but according to my fussy Persian, he thinks it hung the moon!  The grilled and roasted varieties provide some sort of \"extra\" punch of flavor for him so, well, must be a guy thing because my female won\\'t touch any of it.  Weird, I know, but I think it goes back to that tailgating thing guys do with the brats and other \"guy stuff.\"  My male is all over the beef and grilled varieties but my female, she prefers the pates.  Overall, the quality of this food is awesome, better than Iams and worth the price.  It\\'s about $6 higher here than what I pay for it but I\\'m in Ohio, the armpit capital of the world so things are cheaper here so they can get us to stay..... Highly recommend!',\n",
              "       \"I had never tried blackstrap molasses before and I was expecting not to like the taste after reading many online comments about how awful it tastes and how much it's an acquired taste.  I bought this from the grocery store since it was on sale, and I actually love the taste of it.  I read on another site that some people thought it tastes like licorice, but I don't think it does at all, which is good because I hate the taste of licorice.  The only thing I don't like about this is that it's really messy.  Maybe if it was in a squeeze bottle it would be easier to pour into a measuring spoon.\",\n",
              "       'All items were in tip-top condition and well packaged. Thanks what a fantastic deal!<br />I would definitely purchase this item again!',\n",
              "       \"Every time I open a can, my cat meows like CRAZY... He always thinks it's one of these... Sometimes it is and sometimes it isn't. So whenever I have soup or whatever, I give him one of these. This is the only kind of food that I KNOW he likes. And it keeps him healthy. I can tell when cat food isn't that good for him. He sheds a little more. But I don't have that problem with this and the other cat food I'm giving him now.\",\n",
              "       'Bear Creek soup is wonderful. I make lots of soups myself, but had never attempted potato soup. This soup in a bag was just spicy enough to satisfy my husband, and just right for me.',\n",
              "       'I love the fact that the Kashi bars are all natural, they have a high fiber value and also have a substainable amount of protein to help curb hunger! Perfect go-to snack, and I\\'ve also had them as a meal on the go with a piece of low-fat string cheese and an apple... very filling! LOVE them.  I\\'ve also recently given up sweets in my diet as Im trying to lose my last 10lbs, and these seem like a candy bar (granted, not quite as sweet obviously!) but it is a satifying \"treat\" that is also healthy! Highly recommend! Cannot wait to try my other Kashi bars once they arrive from Amazon! :)',\n",
              "       'Both my girlfriend and I use these, not everyday but those days when you know you need something to help get you going or days when we work overtime. I have to say they do work, some days we split one to save a little more but I have to say they do work, I asked my doctor if they were safe and he said sure when used in moderation as with everything else. The plus side is you do get a boost of vitamins that you dont when drinking coffee. When we started buying them it was at the local convenience store but at $3-$4 each it was getting expensive. Found them in a local Sams Club for like $39.99 + local tax for a case of 24 and started buying there but that makes it $42.39 for a case. It was nice to see them on amazon Subscribe n Save auto shipment for about $38.xx so almost saving another $5. Nice thing is we have it setup where we get another case right before the previous runs out. Thanks Amazon. One thing I would like is for amazon to offer the pomegranate in the subscribe and save but thats all.',\n",
              "       'Again available after an absence of 40 years! or is it 50? No carbs, no calories and no after taste! What more could I want Also available in several sizes. This one is perfect for pocket or purse!',\n",
              "       'Our pups just love these snacks, and we feel good about giving them to them<br />too!  The perfect size and not too hard like some dog treats for small dogs!<br />I love how you can see the oats in them -- not junky, fatty fillers!',\n",
              "       'better than any other smoked clams that I can buy locally.A bit spendy but I think they are worth it... this is my second order.'],\n",
              "      dtype=object)"
            ]
          },
          "metadata": {
            "tags": []
          },
          "execution_count": 5
        }
      ]
    },
    {
      "cell_type": "markdown",
      "metadata": {
        "id": "iVp66VmjxShj",
        "colab_type": "text"
      },
      "source": [
        "### Preprocess the text (clean it up!)"
      ]
    },
    {
      "cell_type": "markdown",
      "metadata": {
        "id": "6DCVsDzvkM4w",
        "colab_type": "text"
      },
      "source": [
        "I don't know about you, but I noticed some junk in our data - HTML and URLs.  Let's clear that out first.  We'll also take this opportunity to lemmatize the words - to do that, we'll install NLTK's WordNet library."
      ]
    },
    {
      "cell_type": "code",
      "metadata": {
        "id": "VlbJ92eCwSAY",
        "colab_type": "code",
        "outputId": "0ec073fe-0bf5-42b1-ab44-898a04bf768b",
        "colab": {
          "base_uri": "https://localhost:8080/",
          "height": 69
        }
      },
      "source": [
        "import nltk\n",
        "nltk.download('wordnet')"
      ],
      "execution_count": 6,
      "outputs": [
        {
          "output_type": "stream",
          "text": [
            "[nltk_data] Downloading package wordnet to /root/nltk_data...\n",
            "[nltk_data]   Package wordnet is already up-to-date!\n"
          ],
          "name": "stdout"
        },
        {
          "output_type": "execute_result",
          "data": {
            "text/plain": [
              "True"
            ]
          },
          "metadata": {
            "tags": []
          },
          "execution_count": 6
        }
      ]
    },
    {
      "cell_type": "code",
      "metadata": {
        "id": "B0FSjgoRkM4y",
        "colab_type": "code",
        "colab": {}
      },
      "source": [
        "import re\n",
        "from nltk.stem import WordNetLemmatizer\n",
        "\n",
        "# Initialize a lemmatizer\n",
        "lemmatizer = WordNetLemmatizer()\n",
        "\n",
        "def clean_text(text):\n",
        "    # First we'll use regular expressions to strip out links and HTML tags\n",
        "    text = re.sub(r'http[a-zA-Z0-9\\&\\?\\=\\?\\/\\:\\.]+\\b', ' ', text)\n",
        "    text = re.sub(r'\\<[^\\<\\>]+\\>', ' ', text)\n",
        "    # Next, let's clear out all punctuation and replace it with whitespace\n",
        "    text = re.sub(r'\\W+', ' ', text) \n",
        "    # And clear out numbers\n",
        "    text = re.sub(r'[0-9]+', ' ', text)\n",
        "    # And then lowercase\n",
        "    text = text.lower()\n",
        "    # This isn't going to be perfect - ideally we expand contractions first\n",
        "    # And also deal with spelling corrections\n",
        "    # But this will work well enough for now\n",
        "    \n",
        "    # Next, let's split on whitespace and then lemmatize each token\n",
        "    tokens = text.split()\n",
        "    tokens = [lemmatizer.lemmatize(x) for x in tokens]\n",
        "    text = \" \".join(tokens)\n",
        "  \n",
        "    return text\n",
        "\n",
        "sample['Text'] = sample['Text'].map(clean_text)"
      ],
      "execution_count": 0,
      "outputs": []
    },
    {
      "cell_type": "markdown",
      "metadata": {
        "id": "gYRw8_IeZHUu",
        "colab_type": "text"
      },
      "source": [
        "Let's see what our data look like now that we've processed the text"
      ]
    },
    {
      "cell_type": "code",
      "metadata": {
        "id": "EWHGd3sDZCuy",
        "colab_type": "code",
        "outputId": "af630702-c6d9-449c-a692-0712f398b493",
        "colab": {
          "base_uri": "https://localhost:8080/",
          "height": 228
        }
      },
      "source": [
        "sample.sample(10)['Text'].values"
      ],
      "execution_count": 8,
      "outputs": [
        {
          "output_type": "execute_result",
          "data": {
            "text/plain": [
              "array(['i bought the whirley pop stovetop popcorn popper several month ago which of course the wabash valley popcorn came recommended same company i thought what the heck i ve always wondered how gourmet popcorn differed from orville or other everyday popcorn brand let me tell you it is worth the extra money i can really taste the difference in quality and normal popcorn just doesn t taste right when you make it in the whirley pop this popcorn is so tender and tasty it wa a little weird to see and eat at first because it s about half the size of regular popcorn but i believe this characteristic is essential in helping the seasoning completely coat the corn my favorite prep method include using the whirley pop and nutiva organic extra virgin coconut oil see my review for that for more detail i add a little peanut oil sea salt black pepper and a good amount of vegaline garlic mist cooking seasoning spray yummy i ve tried the other amish country popcorn and they re all good this is my favorite though',\n",
              "       'i called upon a panel of two expert feline food tester assist me with this review the first apollo is quite enthusiastic about food related assignment and is usually most concerned about quantity the second lj is more discerning about food occasionally refusing to participate when i opened the first selection chicken pot pie i noticed a quantity of liquid around the solid portion of the meal and wa concerned that it wa perhaps spoiled i detected no bad odor so i offered it to my panel who were incidentally becoming quite impatient apollo immediately began to consume his portion pausing only when the dish wa empty lj took her usual cautious sniff of the food and then began to eagerly lap up the liquid pausing to take a bite of the solid from time to time she too did not stop eating until the entire portion wa consumed at the next testing session i offered the chinese chicken selection this one looked much more like other canned cat food but had a more pronounced odor both tester arrived at their station without being summoned again both tester were enthusiastic about their assignment and did not stop until the entire portion wa consumed in fact when the tester were disturbed by two member of the canine food testing team they expressed great displeasure a i wa preparing the food sample a member of the human food testing panel remarked that the feline sample particularly the chinese chicken looked better than much of the food she had been eating at college obviously the feline panel wa quite taken with the product our chief accountant had some issue with it however since this product cost about four time a much per ounce a our usual offering note usual offering ha kept six cat quite healthy for more than thirty year with this price factor in mind i divided each single serving oz can between the two tester and supplemented with dry food due to the enthusiastic endorsement by the feline food tester and based on my prior experience with aging feline diminished appetite i will purchase this product in the future a a supplement to the usual feline menu offering much a the human menu is supplemented by holiday meal or upscale restaurant outing',\n",
              "       'so far my three male kitty have loved all the wellness wet food i ve bought for them however they really went wild over this and it s become a real favorite',\n",
              "       'moderate size packaging and not too sweet like other small juice packet i feel good giving this to my kid',\n",
              "       'they are by far the best flavor they really do taste like a hot fudge sundae',\n",
              "       'i m a big fan of the carbs fat and protein balance of these crisp the salt isn t overpowering and the taste is ok i ve had better soy chip genisoy tortilla chip but these are alright if you don t like the crunch of a chip',\n",
              "       'i have been making almond milk for about month and it ha taken me a while to dial in how to make it the way i like it while i wa able to get the taste right i had issue with consistency i had been filtering the milk through a jelly strainer bag to some good effect but what a pain that wa i decided to try this nut bag on a whim and it cut my workload by half and gave great result now i do one quick pour of the hot milk through the strainer that came with my soy milk maker and i pour the result into this nut bag and give it a good squeeze the hole seem to be just the perfect size for the job i am glad i decided to give this product a go',\n",
              "       'marley one love organic coffee pod are targeted at hip people who like bob marley only need to brew one cup of coffee at a time have pod compatible coffee maker like the hamilton beach personal cup one cup pod brewer and prefer organic coffee for health reason no pesticide more antioxidant political reason you support the organic food movement or aesthetic reason no bad tasting additive you like the cool packaging it is advertised a ethiopian yirgacheffe coffee yirgacheffe is a coffee growing region in ethiopia and ethiopian coffee in general is known for it fruity or wine like note my impression be warned that i am not a coffee connoisseur and i don t have a pod coffee maker i brewed one cup in a mug in the microwave which i subsequently turned into a reasonably satisfying cafe mocha i cold brewed several additional cup by letting pod soak in water for hour oz water pod which i drank cold with ice milk and sugar i found the cold brewed iced coffee to be very tasty clearly better than the cup i ve made with the much cheaper folgers classic roast coffee single count single serving pack of for example are the pod worth cent apiece well you re not going to find a better cup of coffee at the donut shop around the corner for cent beyond that you re going to have to try it yourself',\n",
              "       'so i have a dietitian now who s helping me lose another pound i lost myself this past year and needed help revamping my program and staying on track so she put me on whole meal replacement wmr diet with a calorie daily and only whole food every afternoon for the last month i ve stopped my day for an orgain shake calorie total i chose orgain because i liked the ingredient i wasnt interested in losing weight by eating chemistry based non food my other wmr is an every morning macrobar coconut those wmrs plus snack and meal in the middle of the day ha been working great both the vanilla bean and the chocolate orgain shake are delicious filling and satisfying they really are best cold the nutritional stats are good my dietitian wa happy i discovered them and ha added them to her list of recommended wmr shake i m happy to report i ve lost pound each month these past month',\n",
              "       'i place order on june but this snack expire on sep i order about bottle of gerber graduate i got only mounth and a bit left for this flavor poor why you do with your royal costumer like this i pay you a lot every mounth bad sale if it almost expire just keep it away or send it to the bin don t give it to me waste of money'],\n",
              "      dtype=object)"
            ]
          },
          "metadata": {
            "tags": []
          },
          "execution_count": 8
        }
      ]
    },
    {
      "cell_type": "markdown",
      "metadata": {
        "id": "_Tce9LW5kM47",
        "colab_type": "text"
      },
      "source": [
        "## TF-IDF Vectorization (Feature Extraction)"
      ]
    },
    {
      "cell_type": "markdown",
      "metadata": {
        "id": "5M6xvlbgxCAg",
        "colab_type": "text"
      },
      "source": [
        "Just to be safe, let's add some additional words to a standard list of English stop words."
      ]
    },
    {
      "cell_type": "code",
      "metadata": {
        "id": "upq30VrJxJeo",
        "colab_type": "code",
        "colab": {}
      },
      "source": [
        "from sklearn.feature_extraction import stop_words as sklearn_stop_words\n",
        "# Grab standard English stopwords\n",
        "stop_words = set(sklearn_stop_words.ENGLISH_STOP_WORDS)\n",
        "# And add in some of our own (\"like\" is really common and doesn't tell us much)\n",
        "stop_words = stop_words.union(set([\n",
        "    \"www\", \"http\", \"https\", \"br\", \"amazon\", \"href\", \"wa\", \"ha\",\n",
        "    \"like\", \"just\",\n",
        "]))"
      ],
      "execution_count": 0,
      "outputs": []
    },
    {
      "cell_type": "markdown",
      "metadata": {
        "id": "g5GxTc_lkM48",
        "colab_type": "text"
      },
      "source": [
        "Okay, now let's tokenize our text and turn it into numbers"
      ]
    },
    {
      "cell_type": "code",
      "metadata": {
        "id": "xN7oPF2wkM49",
        "colab_type": "code",
        "colab": {}
      },
      "source": [
        "from sklearn.feature_extraction.text import TfidfVectorizer, CountVectorizer\n",
        "\n",
        "tfidf_vectorizer = TfidfVectorizer(\n",
        "    max_df=0.9, # Remove any words that appear in more than 90% of our documents\n",
        "    min_df=5, # Remove words that appear in fewer than 5 document\n",
        "    ngram_range=(1, 1), # Only extract unigrams\n",
        "    stop_words=stop_words, # Remove stopwords\n",
        "    max_features=2500 # Grab the 2500 most common words (based on above constraints)\n",
        ")\n",
        "tfidf = tfidf_vectorizer.fit_transform(sample['Text'])\n",
        "ngrams = tfidf_vectorizer.get_feature_names()"
      ],
      "execution_count": 0,
      "outputs": []
    },
    {
      "cell_type": "code",
      "metadata": {
        "id": "nL16ucdPkM5G",
        "colab_type": "code",
        "outputId": "f45fdf07-530e-44ca-dc0d-9d2e0465cbac",
        "colab": {
          "base_uri": "https://localhost:8080/",
          "height": 52
        }
      },
      "source": [
        "tfidf"
      ],
      "execution_count": 11,
      "outputs": [
        {
          "output_type": "execute_result",
          "data": {
            "text/plain": [
              "<10000x2500 sparse matrix of type '<class 'numpy.float64'>'\n",
              "\twith 245835 stored elements in Compressed Sparse Row format>"
            ]
          },
          "metadata": {
            "tags": []
          },
          "execution_count": 11
        }
      ]
    },
    {
      "cell_type": "markdown",
      "metadata": {
        "id": "awan15pukM5Q",
        "colab_type": "text"
      },
      "source": [
        "Because words are really big, by default we work with sparse matrices.  We can expand the sparse matrix with `.todense()` and compute sums like a normal dataframe.  Let's check out the top 20 words."
      ]
    },
    {
      "cell_type": "code",
      "metadata": {
        "id": "gg3Lj0jDkM5S",
        "colab_type": "code",
        "outputId": "117f7ba4-7a72-4af4-de9f-7a617768c5d3",
        "colab": {
          "base_uri": "https://localhost:8080/",
          "height": 381
        }
      },
      "source": [
        "ngram_df = pd.DataFrame(tfidf.todense(), columns=ngrams) \n",
        "ngram_df.sum().sort_values(ascending=False)[:20]"
      ],
      "execution_count": 12,
      "outputs": [
        {
          "output_type": "execute_result",
          "data": {
            "text/plain": [
              "coffee     316.980063\n",
              "good       308.366277\n",
              "taste      306.032427\n",
              "great      296.119454\n",
              "tea        286.896549\n",
              "love       283.353920\n",
              "product    281.596502\n",
              "flavor     278.327891\n",
              "food       213.044387\n",
              "dog        205.873217\n",
              "really     178.868613\n",
              "price      175.593576\n",
              "time       165.726609\n",
              "make       165.491621\n",
              "cup        165.306249\n",
              "buy        163.445115\n",
              "best       162.054263\n",
              "bag        154.881833\n",
              "ve         151.040409\n",
              "don        145.061858\n",
              "dtype: float64"
            ]
          },
          "metadata": {
            "tags": []
          },
          "execution_count": 12
        }
      ]
    },
    {
      "cell_type": "markdown",
      "metadata": {
        "id": "tsnZGNi9fPtR",
        "colab_type": "text"
      },
      "source": [
        "We can also explore word co-occurrences - the words that most frequently appear together in the same documents"
      ]
    },
    {
      "cell_type": "code",
      "metadata": {
        "id": "illxhoksfJ4u",
        "colab_type": "code",
        "colab": {
          "base_uri": "https://localhost:8080/",
          "height": 251
        },
        "outputId": "9fa26069-2f6c-4e77-d9df-e2e21b360a37"
      },
      "source": [
        "count_vectorizer = CountVectorizer(\n",
        "    max_df=.9, \n",
        "    min_df=50, \n",
        "    stop_words=stop_words\n",
        ")\n",
        "counts = count_vectorizer.fit_transform(sample['Text'])\n",
        "ngrams = count_vectorizer.get_feature_names()\n",
        "cooccurs = (counts.T * counts) \n",
        "cooccurs.setdiag(0)\n",
        "cooccurs = pd.DataFrame(cooccurs.todense(), index=ngrams, columns=ngrams)\n",
        "cooccurs.head()"
      ],
      "execution_count": 13,
      "outputs": [
        {
          "output_type": "execute_result",
          "data": {
            "text/html": [
              "<div>\n",
              "<style scoped>\n",
              "    .dataframe tbody tr th:only-of-type {\n",
              "        vertical-align: middle;\n",
              "    }\n",
              "\n",
              "    .dataframe tbody tr th {\n",
              "        vertical-align: top;\n",
              "    }\n",
              "\n",
              "    .dataframe thead th {\n",
              "        text-align: right;\n",
              "    }\n",
              "</style>\n",
              "<table border=\"1\" class=\"dataframe\">\n",
              "  <thead>\n",
              "    <tr style=\"text-align: right;\">\n",
              "      <th></th>\n",
              "      <th>able</th>\n",
              "      <th>absolutely</th>\n",
              "      <th>acid</th>\n",
              "      <th>actual</th>\n",
              "      <th>actually</th>\n",
              "      <th>add</th>\n",
              "      <th>added</th>\n",
              "      <th>addicted</th>\n",
              "      <th>adding</th>\n",
              "      <th>addition</th>\n",
              "      <th>admit</th>\n",
              "      <th>adult</th>\n",
              "      <th>afternoon</th>\n",
              "      <th>aftertaste</th>\n",
              "      <th>age</th>\n",
              "      <th>ago</th>\n",
              "      <th>agree</th>\n",
              "      <th>air</th>\n",
              "      <th>allergic</th>\n",
              "      <th>allergy</th>\n",
              "      <th>almond</th>\n",
              "      <th>alot</th>\n",
              "      <th>alternative</th>\n",
              "      <th>amazing</th>\n",
              "      <th>american</th>\n",
              "      <th>animal</th>\n",
              "      <th>anymore</th>\n",
              "      <th>apple</th>\n",
              "      <th>appreciate</th>\n",
              "      <th>area</th>\n",
              "      <th>aren</th>\n",
              "      <th>aroma</th>\n",
              "      <th>arrived</th>\n",
              "      <th>artificial</th>\n",
              "      <th>ask</th>\n",
              "      <th>asked</th>\n",
              "      <th>ate</th>\n",
              "      <th>available</th>\n",
              "      <th>average</th>\n",
              "      <th>avoid</th>\n",
              "      <th>...</th>\n",
              "      <th>wasn</th>\n",
              "      <th>waste</th>\n",
              "      <th>watch</th>\n",
              "      <th>water</th>\n",
              "      <th>way</th>\n",
              "      <th>weak</th>\n",
              "      <th>website</th>\n",
              "      <th>week</th>\n",
              "      <th>weight</th>\n",
              "      <th>weird</th>\n",
              "      <th>wellness</th>\n",
              "      <th>went</th>\n",
              "      <th>wet</th>\n",
              "      <th>wheat</th>\n",
              "      <th>white</th>\n",
              "      <th>wife</th>\n",
              "      <th>wine</th>\n",
              "      <th>winter</th>\n",
              "      <th>wish</th>\n",
              "      <th>won</th>\n",
              "      <th>wonder</th>\n",
              "      <th>wonderful</th>\n",
              "      <th>word</th>\n",
              "      <th>work</th>\n",
              "      <th>worked</th>\n",
              "      <th>working</th>\n",
              "      <th>world</th>\n",
              "      <th>worry</th>\n",
              "      <th>worse</th>\n",
              "      <th>worst</th>\n",
              "      <th>worth</th>\n",
              "      <th>wouldn</th>\n",
              "      <th>wow</th>\n",
              "      <th>wrapped</th>\n",
              "      <th>wrong</th>\n",
              "      <th>year</th>\n",
              "      <th>yes</th>\n",
              "      <th>yogurt</th>\n",
              "      <th>yum</th>\n",
              "      <th>yummy</th>\n",
              "    </tr>\n",
              "  </thead>\n",
              "  <tbody>\n",
              "    <tr>\n",
              "      <th>able</th>\n",
              "      <td>0</td>\n",
              "      <td>12</td>\n",
              "      <td>4</td>\n",
              "      <td>3</td>\n",
              "      <td>34</td>\n",
              "      <td>25</td>\n",
              "      <td>18</td>\n",
              "      <td>1</td>\n",
              "      <td>12</td>\n",
              "      <td>0</td>\n",
              "      <td>12</td>\n",
              "      <td>5</td>\n",
              "      <td>1</td>\n",
              "      <td>4</td>\n",
              "      <td>6</td>\n",
              "      <td>14</td>\n",
              "      <td>6</td>\n",
              "      <td>2</td>\n",
              "      <td>1</td>\n",
              "      <td>11</td>\n",
              "      <td>2</td>\n",
              "      <td>4</td>\n",
              "      <td>7</td>\n",
              "      <td>9</td>\n",
              "      <td>7</td>\n",
              "      <td>4</td>\n",
              "      <td>8</td>\n",
              "      <td>5</td>\n",
              "      <td>6</td>\n",
              "      <td>7</td>\n",
              "      <td>9</td>\n",
              "      <td>5</td>\n",
              "      <td>18</td>\n",
              "      <td>9</td>\n",
              "      <td>3</td>\n",
              "      <td>2</td>\n",
              "      <td>4</td>\n",
              "      <td>19</td>\n",
              "      <td>1</td>\n",
              "      <td>5</td>\n",
              "      <td>...</td>\n",
              "      <td>24</td>\n",
              "      <td>3</td>\n",
              "      <td>6</td>\n",
              "      <td>74</td>\n",
              "      <td>62</td>\n",
              "      <td>5</td>\n",
              "      <td>11</td>\n",
              "      <td>26</td>\n",
              "      <td>10</td>\n",
              "      <td>4</td>\n",
              "      <td>3</td>\n",
              "      <td>18</td>\n",
              "      <td>9</td>\n",
              "      <td>16</td>\n",
              "      <td>16</td>\n",
              "      <td>11</td>\n",
              "      <td>1</td>\n",
              "      <td>5</td>\n",
              "      <td>12</td>\n",
              "      <td>26</td>\n",
              "      <td>3</td>\n",
              "      <td>17</td>\n",
              "      <td>5</td>\n",
              "      <td>44</td>\n",
              "      <td>5</td>\n",
              "      <td>3</td>\n",
              "      <td>18</td>\n",
              "      <td>5</td>\n",
              "      <td>2</td>\n",
              "      <td>3</td>\n",
              "      <td>22</td>\n",
              "      <td>15</td>\n",
              "      <td>2</td>\n",
              "      <td>5</td>\n",
              "      <td>5</td>\n",
              "      <td>65</td>\n",
              "      <td>16</td>\n",
              "      <td>5</td>\n",
              "      <td>4</td>\n",
              "      <td>2</td>\n",
              "    </tr>\n",
              "    <tr>\n",
              "      <th>absolutely</th>\n",
              "      <td>12</td>\n",
              "      <td>0</td>\n",
              "      <td>9</td>\n",
              "      <td>6</td>\n",
              "      <td>26</td>\n",
              "      <td>21</td>\n",
              "      <td>14</td>\n",
              "      <td>2</td>\n",
              "      <td>4</td>\n",
              "      <td>6</td>\n",
              "      <td>5</td>\n",
              "      <td>6</td>\n",
              "      <td>1</td>\n",
              "      <td>4</td>\n",
              "      <td>2</td>\n",
              "      <td>8</td>\n",
              "      <td>4</td>\n",
              "      <td>3</td>\n",
              "      <td>3</td>\n",
              "      <td>7</td>\n",
              "      <td>18</td>\n",
              "      <td>3</td>\n",
              "      <td>8</td>\n",
              "      <td>15</td>\n",
              "      <td>1</td>\n",
              "      <td>2</td>\n",
              "      <td>5</td>\n",
              "      <td>13</td>\n",
              "      <td>2</td>\n",
              "      <td>3</td>\n",
              "      <td>6</td>\n",
              "      <td>4</td>\n",
              "      <td>9</td>\n",
              "      <td>5</td>\n",
              "      <td>0</td>\n",
              "      <td>1</td>\n",
              "      <td>3</td>\n",
              "      <td>6</td>\n",
              "      <td>3</td>\n",
              "      <td>4</td>\n",
              "      <td>...</td>\n",
              "      <td>5</td>\n",
              "      <td>3</td>\n",
              "      <td>1</td>\n",
              "      <td>29</td>\n",
              "      <td>30</td>\n",
              "      <td>0</td>\n",
              "      <td>8</td>\n",
              "      <td>13</td>\n",
              "      <td>11</td>\n",
              "      <td>4</td>\n",
              "      <td>15</td>\n",
              "      <td>15</td>\n",
              "      <td>4</td>\n",
              "      <td>6</td>\n",
              "      <td>5</td>\n",
              "      <td>6</td>\n",
              "      <td>0</td>\n",
              "      <td>4</td>\n",
              "      <td>6</td>\n",
              "      <td>13</td>\n",
              "      <td>0</td>\n",
              "      <td>22</td>\n",
              "      <td>6</td>\n",
              "      <td>24</td>\n",
              "      <td>3</td>\n",
              "      <td>5</td>\n",
              "      <td>1</td>\n",
              "      <td>3</td>\n",
              "      <td>4</td>\n",
              "      <td>4</td>\n",
              "      <td>20</td>\n",
              "      <td>9</td>\n",
              "      <td>4</td>\n",
              "      <td>3</td>\n",
              "      <td>5</td>\n",
              "      <td>29</td>\n",
              "      <td>13</td>\n",
              "      <td>5</td>\n",
              "      <td>1</td>\n",
              "      <td>6</td>\n",
              "    </tr>\n",
              "    <tr>\n",
              "      <th>acid</th>\n",
              "      <td>4</td>\n",
              "      <td>9</td>\n",
              "      <td>0</td>\n",
              "      <td>1</td>\n",
              "      <td>28</td>\n",
              "      <td>23</td>\n",
              "      <td>10</td>\n",
              "      <td>2</td>\n",
              "      <td>3</td>\n",
              "      <td>2</td>\n",
              "      <td>6</td>\n",
              "      <td>12</td>\n",
              "      <td>1</td>\n",
              "      <td>6</td>\n",
              "      <td>0</td>\n",
              "      <td>9</td>\n",
              "      <td>3</td>\n",
              "      <td>0</td>\n",
              "      <td>0</td>\n",
              "      <td>2</td>\n",
              "      <td>2</td>\n",
              "      <td>3</td>\n",
              "      <td>12</td>\n",
              "      <td>4</td>\n",
              "      <td>4</td>\n",
              "      <td>15</td>\n",
              "      <td>5</td>\n",
              "      <td>6</td>\n",
              "      <td>2</td>\n",
              "      <td>2</td>\n",
              "      <td>3</td>\n",
              "      <td>23</td>\n",
              "      <td>0</td>\n",
              "      <td>10</td>\n",
              "      <td>7</td>\n",
              "      <td>3</td>\n",
              "      <td>2</td>\n",
              "      <td>13</td>\n",
              "      <td>16</td>\n",
              "      <td>6</td>\n",
              "      <td>...</td>\n",
              "      <td>8</td>\n",
              "      <td>0</td>\n",
              "      <td>1</td>\n",
              "      <td>87</td>\n",
              "      <td>28</td>\n",
              "      <td>8</td>\n",
              "      <td>8</td>\n",
              "      <td>25</td>\n",
              "      <td>13</td>\n",
              "      <td>0</td>\n",
              "      <td>12</td>\n",
              "      <td>8</td>\n",
              "      <td>1</td>\n",
              "      <td>19</td>\n",
              "      <td>18</td>\n",
              "      <td>0</td>\n",
              "      <td>6</td>\n",
              "      <td>0</td>\n",
              "      <td>14</td>\n",
              "      <td>5</td>\n",
              "      <td>0</td>\n",
              "      <td>11</td>\n",
              "      <td>2</td>\n",
              "      <td>13</td>\n",
              "      <td>3</td>\n",
              "      <td>4</td>\n",
              "      <td>6</td>\n",
              "      <td>10</td>\n",
              "      <td>7</td>\n",
              "      <td>3</td>\n",
              "      <td>22</td>\n",
              "      <td>7</td>\n",
              "      <td>4</td>\n",
              "      <td>0</td>\n",
              "      <td>1</td>\n",
              "      <td>24</td>\n",
              "      <td>12</td>\n",
              "      <td>7</td>\n",
              "      <td>2</td>\n",
              "      <td>2</td>\n",
              "    </tr>\n",
              "    <tr>\n",
              "      <th>actual</th>\n",
              "      <td>3</td>\n",
              "      <td>6</td>\n",
              "      <td>1</td>\n",
              "      <td>0</td>\n",
              "      <td>16</td>\n",
              "      <td>11</td>\n",
              "      <td>9</td>\n",
              "      <td>0</td>\n",
              "      <td>3</td>\n",
              "      <td>4</td>\n",
              "      <td>2</td>\n",
              "      <td>0</td>\n",
              "      <td>1</td>\n",
              "      <td>2</td>\n",
              "      <td>0</td>\n",
              "      <td>5</td>\n",
              "      <td>0</td>\n",
              "      <td>3</td>\n",
              "      <td>0</td>\n",
              "      <td>1</td>\n",
              "      <td>2</td>\n",
              "      <td>0</td>\n",
              "      <td>2</td>\n",
              "      <td>1</td>\n",
              "      <td>2</td>\n",
              "      <td>0</td>\n",
              "      <td>1</td>\n",
              "      <td>2</td>\n",
              "      <td>1</td>\n",
              "      <td>0</td>\n",
              "      <td>3</td>\n",
              "      <td>1</td>\n",
              "      <td>5</td>\n",
              "      <td>9</td>\n",
              "      <td>1</td>\n",
              "      <td>1</td>\n",
              "      <td>2</td>\n",
              "      <td>6</td>\n",
              "      <td>4</td>\n",
              "      <td>2</td>\n",
              "      <td>...</td>\n",
              "      <td>5</td>\n",
              "      <td>0</td>\n",
              "      <td>1</td>\n",
              "      <td>22</td>\n",
              "      <td>23</td>\n",
              "      <td>1</td>\n",
              "      <td>5</td>\n",
              "      <td>6</td>\n",
              "      <td>5</td>\n",
              "      <td>0</td>\n",
              "      <td>4</td>\n",
              "      <td>3</td>\n",
              "      <td>1</td>\n",
              "      <td>5</td>\n",
              "      <td>6</td>\n",
              "      <td>2</td>\n",
              "      <td>3</td>\n",
              "      <td>0</td>\n",
              "      <td>2</td>\n",
              "      <td>3</td>\n",
              "      <td>0</td>\n",
              "      <td>4</td>\n",
              "      <td>1</td>\n",
              "      <td>14</td>\n",
              "      <td>1</td>\n",
              "      <td>0</td>\n",
              "      <td>0</td>\n",
              "      <td>1</td>\n",
              "      <td>5</td>\n",
              "      <td>0</td>\n",
              "      <td>1</td>\n",
              "      <td>8</td>\n",
              "      <td>1</td>\n",
              "      <td>6</td>\n",
              "      <td>1</td>\n",
              "      <td>9</td>\n",
              "      <td>1</td>\n",
              "      <td>3</td>\n",
              "      <td>1</td>\n",
              "      <td>1</td>\n",
              "    </tr>\n",
              "    <tr>\n",
              "      <th>actually</th>\n",
              "      <td>34</td>\n",
              "      <td>26</td>\n",
              "      <td>28</td>\n",
              "      <td>16</td>\n",
              "      <td>0</td>\n",
              "      <td>53</td>\n",
              "      <td>50</td>\n",
              "      <td>4</td>\n",
              "      <td>23</td>\n",
              "      <td>7</td>\n",
              "      <td>9</td>\n",
              "      <td>4</td>\n",
              "      <td>4</td>\n",
              "      <td>12</td>\n",
              "      <td>4</td>\n",
              "      <td>14</td>\n",
              "      <td>10</td>\n",
              "      <td>9</td>\n",
              "      <td>6</td>\n",
              "      <td>13</td>\n",
              "      <td>45</td>\n",
              "      <td>1</td>\n",
              "      <td>19</td>\n",
              "      <td>18</td>\n",
              "      <td>4</td>\n",
              "      <td>5</td>\n",
              "      <td>12</td>\n",
              "      <td>24</td>\n",
              "      <td>8</td>\n",
              "      <td>10</td>\n",
              "      <td>15</td>\n",
              "      <td>12</td>\n",
              "      <td>23</td>\n",
              "      <td>29</td>\n",
              "      <td>6</td>\n",
              "      <td>6</td>\n",
              "      <td>12</td>\n",
              "      <td>22</td>\n",
              "      <td>10</td>\n",
              "      <td>12</td>\n",
              "      <td>...</td>\n",
              "      <td>36</td>\n",
              "      <td>12</td>\n",
              "      <td>1</td>\n",
              "      <td>127</td>\n",
              "      <td>66</td>\n",
              "      <td>9</td>\n",
              "      <td>10</td>\n",
              "      <td>40</td>\n",
              "      <td>26</td>\n",
              "      <td>10</td>\n",
              "      <td>17</td>\n",
              "      <td>36</td>\n",
              "      <td>17</td>\n",
              "      <td>17</td>\n",
              "      <td>19</td>\n",
              "      <td>8</td>\n",
              "      <td>17</td>\n",
              "      <td>6</td>\n",
              "      <td>11</td>\n",
              "      <td>32</td>\n",
              "      <td>11</td>\n",
              "      <td>18</td>\n",
              "      <td>7</td>\n",
              "      <td>64</td>\n",
              "      <td>11</td>\n",
              "      <td>15</td>\n",
              "      <td>15</td>\n",
              "      <td>4</td>\n",
              "      <td>10</td>\n",
              "      <td>7</td>\n",
              "      <td>32</td>\n",
              "      <td>32</td>\n",
              "      <td>9</td>\n",
              "      <td>11</td>\n",
              "      <td>15</td>\n",
              "      <td>67</td>\n",
              "      <td>23</td>\n",
              "      <td>12</td>\n",
              "      <td>0</td>\n",
              "      <td>17</td>\n",
              "    </tr>\n",
              "  </tbody>\n",
              "</table>\n",
              "<p>5 rows × 1026 columns</p>\n",
              "</div>"
            ],
            "text/plain": [
              "            able  absolutely  acid  actual  ...  yes  yogurt  yum  yummy\n",
              "able           0          12     4       3  ...   16       5    4      2\n",
              "absolutely    12           0     9       6  ...   13       5    1      6\n",
              "acid           4           9     0       1  ...   12       7    2      2\n",
              "actual         3           6     1       0  ...    1       3    1      1\n",
              "actually      34          26    28      16  ...   23      12    0     17\n",
              "\n",
              "[5 rows x 1026 columns]"
            ]
          },
          "metadata": {
            "tags": []
          },
          "execution_count": 13
        }
      ]
    },
    {
      "cell_type": "code",
      "metadata": {
        "id": "gXDrvmKlfetN",
        "colab_type": "code",
        "colab": {}
      },
      "source": [
        "rows, scanned = [], []\n",
        "for word1, row in cooccurs.iterrows():\n",
        "  for word2 in row.keys():\n",
        "    if word2 not in scanned and row[word2] >= 100:\n",
        "      rows.append({\n",
        "          \"pair\": (word1, word2), \"count\": row[word2]\n",
        "      })\n",
        "  scanned.append(word1)\n"
      ],
      "execution_count": 0,
      "outputs": []
    },
    {
      "cell_type": "code",
      "metadata": {
        "id": "vRW5n2Aufe58",
        "colab_type": "code",
        "colab": {
          "base_uri": "https://localhost:8080/",
          "height": 451
        },
        "outputId": "c2742acb-2719-4381-bb02-aa81f8f55fb7"
      },
      "source": [
        "sorted(rows, key=lambda x: x[\"count\"], reverse=True)[:25]"
      ],
      "execution_count": 15,
      "outputs": [
        {
          "output_type": "execute_result",
          "data": {
            "text/plain": [
              "[{'count': 3307, 'pair': ('cat', 'food')},\n",
              " {'count': 3236, 'pair': ('coffee', 'cup')},\n",
              " {'count': 3093, 'pair': ('dog', 'food')},\n",
              " {'count': 2321, 'pair': ('good', 'taste')},\n",
              " {'count': 2256, 'pair': ('coffee', 'taste')},\n",
              " {'count': 2103, 'pair': ('flavor', 'taste')},\n",
              " {'count': 2094, 'pair': ('coffee', 'flavor')},\n",
              " {'count': 2031, 'pair': ('dog', 'treat')},\n",
              " {'count': 1984, 'pair': ('taste', 'tea')},\n",
              " {'count': 1962, 'pair': ('coffee', 'good')},\n",
              " {'count': 1859, 'pair': ('flavor', 'good')},\n",
              " {'count': 1659, 'pair': ('eat', 'food')},\n",
              " {'count': 1619, 'pair': ('flavor', 'tea')},\n",
              " {'count': 1592, 'pair': ('food', 'product')},\n",
              " {'count': 1580, 'pair': ('product', 'taste')},\n",
              " {'count': 1553, 'pair': ('coffee', 'pod')},\n",
              " {'count': 1553, 'pair': ('green', 'tea')},\n",
              " {'count': 1524, 'pair': ('bag', 'tea')},\n",
              " {'count': 1519, 'pair': ('good', 'tea')},\n",
              " {'count': 1457, 'pair': ('good', 'product')},\n",
              " {'count': 1437, 'pair': ('great', 'taste')},\n",
              " {'count': 1360, 'pair': ('food', 'good')},\n",
              " {'count': 1270, 'pair': ('food', 'ingredient')},\n",
              " {'count': 1265, 'pair': ('cup', 'tea')},\n",
              " {'count': 1259, 'pair': ('chip', 'potato')}]"
            ]
          },
          "metadata": {
            "tags": []
          },
          "execution_count": 15
        }
      ]
    },
    {
      "cell_type": "markdown",
      "metadata": {
        "id": "sazZ9V-QkM5Z",
        "colab_type": "text"
      },
      "source": [
        "## Classification"
      ]
    },
    {
      "cell_type": "markdown",
      "metadata": {
        "id": "c-KIJ9X-hloK",
        "colab_type": "text"
      },
      "source": [
        "Let's go back to the TF-IDF matrix and use it to do some classification"
      ]
    },
    {
      "cell_type": "code",
      "metadata": {
        "id": "LzH9LLZdhlyx",
        "colab_type": "code",
        "colab": {}
      },
      "source": [
        "from sklearn.feature_extraction.text import TfidfVectorizer, CountVectorizer\n",
        "\n",
        "tfidf_vectorizer = TfidfVectorizer(\n",
        "    max_df=0.9, # Remove any words that appear in more than 90% of our documents\n",
        "    min_df=5, # Remove words that appear in fewer than 5 document\n",
        "    ngram_range=(1, 1), # Only extract unigrams\n",
        "    stop_words=stop_words, # Remove stopwords\n",
        "    max_features=2500 # Grab the 2500 most common words (based on above constraints)\n",
        ")\n",
        "tfidf = tfidf_vectorizer.fit_transform(sample['Text'])\n",
        "ngrams = tfidf_vectorizer.get_feature_names()"
      ],
      "execution_count": 0,
      "outputs": []
    },
    {
      "cell_type": "markdown",
      "metadata": {
        "id": "TFOKxLkBkM5a",
        "colab_type": "text"
      },
      "source": [
        "Let's make an outcome variable.  How about we try to predict 5-star reviews, and then maybe helpfulness?"
      ]
    },
    {
      "cell_type": "code",
      "metadata": {
        "id": "O9Yv0TjbkM5c",
        "colab_type": "code",
        "colab": {}
      },
      "source": [
        "sample['good_score'] = sample['Score'].map(lambda x: 1 if x == 5 else 0)\n",
        "sample['was_helpful'] = ((sample['HelpfulnessNumerator'] / sample['HelpfulnessDenominator']).fillna(0.0) > .80).astype(int)"
      ],
      "execution_count": 0,
      "outputs": []
    },
    {
      "cell_type": "code",
      "metadata": {
        "id": "l-nGtmE0kM5f",
        "colab_type": "code",
        "colab": {}
      },
      "source": [
        "column_to_predict = 'good_score'"
      ],
      "execution_count": 0,
      "outputs": []
    },
    {
      "cell_type": "code",
      "metadata": {
        "id": "TeHT5KaskM5k",
        "colab_type": "code",
        "colab": {}
      },
      "source": [
        "from sklearn.model_selection import StratifiedKFold\n",
        "from sklearn import svm\n",
        "from sklearn import metrics\n",
        "\n",
        "results = []\n",
        "kfolds = StratifiedKFold(n_splits=5)"
      ],
      "execution_count": 0,
      "outputs": []
    },
    {
      "cell_type": "markdown",
      "metadata": {
        "id": "L5bpQLmdkM5o",
        "colab_type": "text"
      },
      "source": [
        "We just created an object that'll split the data into fifths, and then iterate over it five times, holding out one-fifth each time for testing.  Let's do that now.  Each \"fold\" contains an index for training rows, and one for testing rows.  For each fold, we'll train a basic linear Support Vector Machine, and evaluate its performance."
      ]
    },
    {
      "cell_type": "code",
      "metadata": {
        "id": "7pjTP4XHkM5p",
        "colab_type": "code",
        "outputId": "5b98eb4a-93ef-4bca-bbea-429fe003fe62",
        "colab": {
          "base_uri": "https://localhost:8080/",
          "height": 104
        }
      },
      "source": [
        "for i, fold in enumerate(kfolds.split(tfidf, sample[column_to_predict])):\n",
        "    \n",
        "    train, test = fold \n",
        "    print(\"Running new fold, {} training cases, {} testing cases\".format(len(train), len(test)))\n",
        "    \n",
        "    clf = svm.LinearSVC(\n",
        "        max_iter=1000,\n",
        "        penalty='l2',\n",
        "        class_weight='balanced',\n",
        "        loss='squared_hinge'\n",
        "    )\n",
        "    # We picked some decent starting parameters, but you can try out different ones\n",
        "    # http://scikit-learn.org/stable/modules/generated/sklearn.svm.LinearSVC.html \n",
        "    # If you're ambitious - check out the Scikit-Learn documentation and test out different models\n",
        "    # http://scikit-learn.org/stable/supervised_learning.html\n",
        "    # XGBoost is one of my favorites, and there's an Scikit-Learn wrapper for it\n",
        "    # https://machinelearningmastery.com/develop-first-xgboost-model-python-scikit-learn/\n",
        "    \n",
        "    training_text = tfidf[train]\n",
        "    training_outcomes = sample[column_to_predict].loc[train]\n",
        "    clf.fit(training_text, training_outcomes) # Train the classifier on the training data\n",
        "    \n",
        "    test_text = tfidf[test]\n",
        "    test_outcomes = sample[column_to_predict].loc[test]\n",
        "    predictions = clf.predict(test_text) # Get predictions for the test data\n",
        "    \n",
        "    precision, recall, fscore, support = metrics.precision_recall_fscore_support(\n",
        "        test_outcomes, # Compare the predictions against the true outcomes\n",
        "        predictions\n",
        "    )\n",
        "    \n",
        "    results.append({\n",
        "        \"fold\": i,\n",
        "        \"outcome\": 0,\n",
        "        \"precision\": precision[0],\n",
        "        \"recall\": recall[0],\n",
        "        \"fscore\": fscore[0],\n",
        "        \"support\": support[0]\n",
        "    })\n",
        "    \n",
        "    results.append({\n",
        "        \"fold\": i,\n",
        "        \"outcome\": 1,\n",
        "        \"precision\": precision[1],\n",
        "        \"recall\": recall[1],\n",
        "        \"fscore\": fscore[1],\n",
        "        \"support\": support[1]\n",
        "    })\n",
        "    \n",
        "results = pd.DataFrame(results)"
      ],
      "execution_count": 20,
      "outputs": [
        {
          "output_type": "stream",
          "text": [
            "Running new fold, 8000 training cases, 2000 testing cases\n",
            "Running new fold, 8000 training cases, 2000 testing cases\n",
            "Running new fold, 8000 training cases, 2000 testing cases\n",
            "Running new fold, 8000 training cases, 2000 testing cases\n",
            "Running new fold, 8000 training cases, 2000 testing cases\n"
          ],
          "name": "stdout"
        }
      ]
    },
    {
      "cell_type": "markdown",
      "metadata": {
        "id": "a1NrCFi1kM5t",
        "colab_type": "text"
      },
      "source": [
        "How'd we do?"
      ]
    },
    {
      "cell_type": "code",
      "metadata": {
        "id": "9wJQJUDHkM5w",
        "colab_type": "code",
        "outputId": "ff34f0cc-332f-4c23-ea95-32d8086e8a6e",
        "colab": {
          "base_uri": "https://localhost:8080/",
          "height": 156
        }
      },
      "source": [
        "print(results.groupby(\"outcome\").mean()[['precision', 'recall']])\n",
        "print(results.groupby(\"outcome\").std()[['precision', 'recall']])"
      ],
      "execution_count": 21,
      "outputs": [
        {
          "output_type": "stream",
          "text": [
            "         precision    recall\n",
            "outcome                     \n",
            "0         0.641014  0.698769\n",
            "1         0.817090  0.774626\n",
            "         precision    recall\n",
            "outcome                     \n",
            "0         0.008326  0.020460\n",
            "1         0.009987  0.005897\n"
          ],
          "name": "stdout"
        }
      ]
    },
    {
      "cell_type": "markdown",
      "metadata": {
        "id": "U2rUl89xkM50",
        "colab_type": "text"
      },
      "source": [
        "Now we know that our model is pretty stable and reasonably performant, we can fit and transform the full dataset."
      ]
    },
    {
      "cell_type": "code",
      "metadata": {
        "id": "wjs8Wai1kM52",
        "colab_type": "code",
        "outputId": "acbad6c1-1521-4b1b-c63c-ca6aef33d487",
        "colab": {
          "base_uri": "https://localhost:8080/",
          "height": 208
        }
      },
      "source": [
        "clf.fit(tfidf, sample[column_to_predict])  \n",
        "print(metrics.classification_report(sample[column_to_predict].loc[test], predictions))\n",
        "print(metrics.confusion_matrix(sample[column_to_predict].loc[test], predictions))"
      ],
      "execution_count": 22,
      "outputs": [
        {
          "output_type": "stream",
          "text": [
            "              precision    recall  f1-score   support\n",
            "\n",
            "           0       0.64      0.72      0.68       731\n",
            "           1       0.83      0.77      0.80      1269\n",
            "\n",
            "    accuracy                           0.75      2000\n",
            "   macro avg       0.74      0.75      0.74      2000\n",
            "weighted avg       0.76      0.75      0.75      2000\n",
            "\n",
            "[[528 203]\n",
            " [293 976]]\n"
          ],
          "name": "stdout"
        }
      ]
    },
    {
      "cell_type": "markdown",
      "metadata": {
        "id": "MJbHn-M9kM58",
        "colab_type": "text"
      },
      "source": [
        "And now we can see what the most predictive features are."
      ]
    },
    {
      "cell_type": "code",
      "metadata": {
        "id": "1NPFIjeBkM58",
        "colab_type": "code",
        "outputId": "95732b7c-2c6d-4988-f628-af6ed6475e28",
        "colab": {
          "base_uri": "https://localhost:8080/",
          "height": 191
        }
      },
      "source": [
        "import numpy as np\n",
        "\n",
        "ngram_coefs = sorted(zip(ngrams, clf.coef_[0]), key=lambda x: x[1], reverse=True)\n",
        "ngram_coefs[:10]"
      ],
      "execution_count": 23,
      "outputs": [
        {
          "output_type": "execute_result",
          "data": {
            "text/plain": [
              "[('highly', 3.1013089738143287),\n",
              " ('best', 2.444740644553053),\n",
              " ('love', 2.306617070446386),\n",
              " ('perfect', 2.2929056338458307),\n",
              " ('favorite', 2.1200027087198525),\n",
              " ('wonderful', 2.006322948279272),\n",
              " ('cancer', 1.9431169727387974),\n",
              " ('fabulous', 1.8950394468562675),\n",
              " ('satisfied', 1.8690450683854933),\n",
              " ('addicted', 1.8094483299768616)]"
            ]
          },
          "metadata": {
            "tags": []
          },
          "execution_count": 23
        }
      ]
    },
    {
      "cell_type": "markdown",
      "metadata": {
        "collapsed": true,
        "id": "lrPmLIGckM5_",
        "colab_type": "text"
      },
      "source": [
        "What happens if you change the outcome column to \"was_helpful\" and re-run it again?  Can you think of ways to improve this?  Add more stopwords?  Include bigrams in addition to unigrams?"
      ]
    },
    {
      "cell_type": "markdown",
      "metadata": {
        "id": "HSbNaH3LkM6B",
        "colab_type": "text"
      },
      "source": [
        "## Topic Modeling"
      ]
    },
    {
      "cell_type": "code",
      "metadata": {
        "id": "3Gg7Jz4LkM6B",
        "colab_type": "code",
        "colab": {}
      },
      "source": [
        "from sklearn.decomposition import NMF, LatentDirichletAllocation"
      ],
      "execution_count": 0,
      "outputs": []
    },
    {
      "cell_type": "code",
      "metadata": {
        "id": "Or9lX_kRkM6F",
        "colab_type": "code",
        "colab": {}
      },
      "source": [
        "def print_top_words(model, feature_names, n_top_words):\n",
        "    for topic_idx, topic in enumerate(model.components_):\n",
        "        print(\"Topic #{}: {}\".format(\n",
        "            topic_idx,\n",
        "            \", \".join([feature_names[i] for i in topic.argsort()[:-n_top_words - 1:-1]])\n",
        "        ))"
      ],
      "execution_count": 0,
      "outputs": []
    },
    {
      "cell_type": "markdown",
      "metadata": {
        "id": "O8EFVHOpkM6N",
        "colab_type": "text"
      },
      "source": [
        "Let's find some topics.  We'll check out non-negative matrix factorization (NMF) first."
      ]
    },
    {
      "cell_type": "code",
      "metadata": {
        "id": "RZ--hFgHkM6O",
        "colab_type": "code",
        "outputId": "669f0cc7-391b-4646-d986-0cf24fc9a9d0",
        "colab": {
          "base_uri": "https://localhost:8080/",
          "height": 245
        }
      },
      "source": [
        "nmf = NMF(n_components=10, random_state=42, alpha=.1, l1_ratio=.5).fit(tfidf)\n",
        "# Try out different numbers of topics (change n_components)\n",
        "# Documentation: http://scikit-learn.org/stable/modules/generated/sklearn.decomposition.NMF.html\n",
        "print(\"\\nTopics in NMF model:\")\n",
        "print_top_words(nmf, ngrams, 10)"
      ],
      "execution_count": 26,
      "outputs": [
        {
          "output_type": "stream",
          "text": [
            "\n",
            "Topics in NMF model:\n",
            "Topic #0: flavor, taste, sugar, ve, really, make, water, tried, don, little\n",
            "Topic #1: coffee, cup, strong, roast, bold, flavor, blend, keurig, dark, pod\n",
            "Topic #2: tea, green, bag, drink, cup, iced, stash, black, taste, earl\n",
            "Topic #3: dog, treat, love, food, chew, bone, small, size, teeth, toy\n",
            "Topic #4: cat, food, eat, dry, wellness, canned, chicken, ingredient, love, vet\n",
            "Topic #5: product, store, price, order, buy, local, grocery, shipping, time, box\n",
            "Topic #6: great, love, snack, price, deal, taste, healthy, recommend, highly, tasting\n",
            "Topic #7: chocolate, bar, dark, snack, nut, peanut, candy, protein, sweet, calorie\n",
            "Topic #8: chip, bag, salt, potato, kettle, snack, vinegar, salty, flavor, fat\n",
            "Topic #9: good, really, price, taste, pretty, quality, tasting, quite, fresh, enjoy\n"
          ],
          "name": "stdout"
        }
      ]
    },
    {
      "cell_type": "markdown",
      "metadata": {
        "id": "4kclKM2ykM6R",
        "colab_type": "text"
      },
      "source": [
        "LDA is an other popular topic modeling technique"
      ]
    },
    {
      "cell_type": "code",
      "metadata": {
        "id": "vR7vcXqBkM6S",
        "colab_type": "code",
        "outputId": "6a6a989a-592e-41c2-f412-a4008be21d8c",
        "colab": {
          "base_uri": "https://localhost:8080/",
          "height": 245
        }
      },
      "source": [
        "lda = LatentDirichletAllocation(n_components=10, random_state=42).fit(tfidf)\n",
        "# Documentation: http://scikit-learn.org/stable/modules/generated/sklearn.decomposition.LatentDirichletAllocation.html\n",
        "# doc_topic_prior (alpha) - lower alpha means documents will be composed of fewer topics (higher means a more uniform distriution across all topics)\n",
        "# topic_word_prior (beta) - lower beta means topics will be composed of fewer words (higher means a more uniform distribution across all words)\n",
        "print(\"\\nTopics in LDA model:\")\n",
        "print_top_words(lda, ngrams, 10)"
      ],
      "execution_count": 27,
      "outputs": [
        {
          "output_type": "stream",
          "text": [
            "\n",
            "Topics in LDA model:\n",
            "Topic #0: coffee, cup, flavor, taste, drink, good, strong, great, roast, tea\n",
            "Topic #1: taste, bar, sugar, good, great, flavor, chocolate, product, snack, calorie\n",
            "Topic #2: sauce, chip, salt, great, pasta, flavor, soup, good, cheese, spicy\n",
            "Topic #3: chocolate, great, love, good, cereal, snack, box, cider, curry, bag\n",
            "Topic #4: tea, popcorn, taste, flavor, good, bag, drink, green, chai, great\n",
            "Topic #5: dog, treat, love, chew, teeth, toy, bone, size, training, great\n",
            "Topic #6: product, price, arrived, gift, order, great, store, good, item, box\n",
            "Topic #7: sleep, product, night, help, container, calm, great, link, good, jack\n",
            "Topic #8: food, cat, dog, product, love, eat, good, year, bag, time\n",
            "Topic #9: store, baby, love, product, great, price, time, buy, year, good\n"
          ],
          "name": "stdout"
        }
      ]
    },
    {
      "cell_type": "markdown",
      "metadata": {
        "id": "nRMNyOYPkM6Y",
        "colab_type": "text"
      },
      "source": [
        "We can use the topic models the same way we did our classifier - everything in Scikit-Learn follows the same fit/transform paradigm.  So, let's get the topics for our documents."
      ]
    },
    {
      "cell_type": "code",
      "metadata": {
        "id": "9SLdy_WNkM6Z",
        "colab_type": "code",
        "colab": {}
      },
      "source": [
        "doc_topics = pd.DataFrame(lda.transform(tfidf))"
      ],
      "execution_count": 0,
      "outputs": []
    },
    {
      "cell_type": "code",
      "metadata": {
        "id": "v2NI2UyrkM6c",
        "colab_type": "code",
        "outputId": "da2a79f9-1728-4881-d121-4f3f7d88e173",
        "colab": {
          "base_uri": "https://localhost:8080/",
          "height": 222
        }
      },
      "source": [
        "doc_topics.head()"
      ],
      "execution_count": 29,
      "outputs": [
        {
          "output_type": "execute_result",
          "data": {
            "text/html": [
              "<div>\n",
              "<style scoped>\n",
              "    .dataframe tbody tr th:only-of-type {\n",
              "        vertical-align: middle;\n",
              "    }\n",
              "\n",
              "    .dataframe tbody tr th {\n",
              "        vertical-align: top;\n",
              "    }\n",
              "\n",
              "    .dataframe thead th {\n",
              "        text-align: right;\n",
              "    }\n",
              "</style>\n",
              "<table border=\"1\" class=\"dataframe\">\n",
              "  <thead>\n",
              "    <tr style=\"text-align: right;\">\n",
              "      <th></th>\n",
              "      <th>0</th>\n",
              "      <th>1</th>\n",
              "      <th>2</th>\n",
              "      <th>3</th>\n",
              "      <th>4</th>\n",
              "      <th>5</th>\n",
              "      <th>6</th>\n",
              "      <th>7</th>\n",
              "      <th>8</th>\n",
              "      <th>9</th>\n",
              "    </tr>\n",
              "  </thead>\n",
              "  <tbody>\n",
              "    <tr>\n",
              "      <th>0</th>\n",
              "      <td>0.024099</td>\n",
              "      <td>0.024098</td>\n",
              "      <td>0.783103</td>\n",
              "      <td>0.024103</td>\n",
              "      <td>0.024096</td>\n",
              "      <td>0.024099</td>\n",
              "      <td>0.024098</td>\n",
              "      <td>0.024106</td>\n",
              "      <td>0.024102</td>\n",
              "      <td>0.024097</td>\n",
              "    </tr>\n",
              "    <tr>\n",
              "      <th>1</th>\n",
              "      <td>0.750107</td>\n",
              "      <td>0.027767</td>\n",
              "      <td>0.027766</td>\n",
              "      <td>0.027764</td>\n",
              "      <td>0.027766</td>\n",
              "      <td>0.027765</td>\n",
              "      <td>0.027768</td>\n",
              "      <td>0.027763</td>\n",
              "      <td>0.027767</td>\n",
              "      <td>0.027766</td>\n",
              "    </tr>\n",
              "    <tr>\n",
              "      <th>2</th>\n",
              "      <td>0.016939</td>\n",
              "      <td>0.016949</td>\n",
              "      <td>0.016949</td>\n",
              "      <td>0.016937</td>\n",
              "      <td>0.815528</td>\n",
              "      <td>0.016946</td>\n",
              "      <td>0.016941</td>\n",
              "      <td>0.016941</td>\n",
              "      <td>0.016946</td>\n",
              "      <td>0.048924</td>\n",
              "    </tr>\n",
              "    <tr>\n",
              "      <th>3</th>\n",
              "      <td>0.023150</td>\n",
              "      <td>0.023149</td>\n",
              "      <td>0.023147</td>\n",
              "      <td>0.023146</td>\n",
              "      <td>0.791670</td>\n",
              "      <td>0.023147</td>\n",
              "      <td>0.023147</td>\n",
              "      <td>0.023151</td>\n",
              "      <td>0.023146</td>\n",
              "      <td>0.023147</td>\n",
              "    </tr>\n",
              "    <tr>\n",
              "      <th>4</th>\n",
              "      <td>0.021649</td>\n",
              "      <td>0.021662</td>\n",
              "      <td>0.021655</td>\n",
              "      <td>0.021648</td>\n",
              "      <td>0.021648</td>\n",
              "      <td>0.021651</td>\n",
              "      <td>0.021647</td>\n",
              "      <td>0.021650</td>\n",
              "      <td>0.805141</td>\n",
              "      <td>0.021650</td>\n",
              "    </tr>\n",
              "  </tbody>\n",
              "</table>\n",
              "</div>"
            ],
            "text/plain": [
              "          0         1         2  ...         7         8         9\n",
              "0  0.024099  0.024098  0.783103  ...  0.024106  0.024102  0.024097\n",
              "1  0.750107  0.027767  0.027766  ...  0.027763  0.027767  0.027766\n",
              "2  0.016939  0.016949  0.016949  ...  0.016941  0.016946  0.048924\n",
              "3  0.023150  0.023149  0.023147  ...  0.023151  0.023146  0.023147\n",
              "4  0.021649  0.021662  0.021655  ...  0.021650  0.805141  0.021650\n",
              "\n",
              "[5 rows x 10 columns]"
            ]
          },
          "metadata": {
            "tags": []
          },
          "execution_count": 29
        }
      ]
    },
    {
      "cell_type": "code",
      "metadata": {
        "id": "6V_BjnkPkM6g",
        "colab_type": "code",
        "colab": {}
      },
      "source": [
        "topic_column_names = [\"topic_{}\".format(c) for c in doc_topics.columns]\n",
        "doc_topics.columns = topic_column_names"
      ],
      "execution_count": 0,
      "outputs": []
    },
    {
      "cell_type": "markdown",
      "metadata": {
        "id": "DPQuLr80kM6p",
        "colab_type": "text"
      },
      "source": [
        "Next we use Pandas to join the topics with the original sample dataframe"
      ]
    },
    {
      "cell_type": "code",
      "metadata": {
        "id": "qdBumd8OkM6v",
        "colab_type": "code",
        "colab": {}
      },
      "source": [
        "sample_with_topics = pd.concat([sample, doc_topics], axis=1)"
      ],
      "execution_count": 0,
      "outputs": []
    },
    {
      "cell_type": "markdown",
      "metadata": {
        "id": "2oEmbWh9kM7T",
        "colab_type": "text"
      },
      "source": [
        "Let's look for patterns by running some means and correlations"
      ]
    },
    {
      "cell_type": "code",
      "metadata": {
        "id": "nSykwVGAkM7W",
        "colab_type": "code",
        "outputId": "62e1da2e-250b-4f37-a2ae-c0a328aea934",
        "colab": {
          "base_uri": "https://localhost:8080/",
          "height": 161
        }
      },
      "source": [
        "topic_columns = [col for col in sample_with_topics.columns if col.startswith(\"topic_\")]\n",
        "sample_with_topics.groupby(\"good_score\").mean()[topic_columns]"
      ],
      "execution_count": 32,
      "outputs": [
        {
          "output_type": "execute_result",
          "data": {
            "text/html": [
              "<div>\n",
              "<style scoped>\n",
              "    .dataframe tbody tr th:only-of-type {\n",
              "        vertical-align: middle;\n",
              "    }\n",
              "\n",
              "    .dataframe tbody tr th {\n",
              "        vertical-align: top;\n",
              "    }\n",
              "\n",
              "    .dataframe thead th {\n",
              "        text-align: right;\n",
              "    }\n",
              "</style>\n",
              "<table border=\"1\" class=\"dataframe\">\n",
              "  <thead>\n",
              "    <tr style=\"text-align: right;\">\n",
              "      <th></th>\n",
              "      <th>topic_0</th>\n",
              "      <th>topic_1</th>\n",
              "      <th>topic_2</th>\n",
              "      <th>topic_3</th>\n",
              "      <th>topic_4</th>\n",
              "      <th>topic_5</th>\n",
              "      <th>topic_6</th>\n",
              "      <th>topic_7</th>\n",
              "      <th>topic_8</th>\n",
              "      <th>topic_9</th>\n",
              "    </tr>\n",
              "    <tr>\n",
              "      <th>good_score</th>\n",
              "      <th></th>\n",
              "      <th></th>\n",
              "      <th></th>\n",
              "      <th></th>\n",
              "      <th></th>\n",
              "      <th></th>\n",
              "      <th></th>\n",
              "      <th></th>\n",
              "      <th></th>\n",
              "      <th></th>\n",
              "    </tr>\n",
              "  </thead>\n",
              "  <tbody>\n",
              "    <tr>\n",
              "      <th>0</th>\n",
              "      <td>0.183903</td>\n",
              "      <td>0.226292</td>\n",
              "      <td>0.065056</td>\n",
              "      <td>0.041901</td>\n",
              "      <td>0.076930</td>\n",
              "      <td>0.058601</td>\n",
              "      <td>0.071276</td>\n",
              "      <td>0.033828</td>\n",
              "      <td>0.172662</td>\n",
              "      <td>0.069551</td>\n",
              "    </tr>\n",
              "    <tr>\n",
              "      <th>1</th>\n",
              "      <td>0.142316</td>\n",
              "      <td>0.226311</td>\n",
              "      <td>0.087173</td>\n",
              "      <td>0.047796</td>\n",
              "      <td>0.090577</td>\n",
              "      <td>0.068197</td>\n",
              "      <td>0.092969</td>\n",
              "      <td>0.034686</td>\n",
              "      <td>0.127523</td>\n",
              "      <td>0.082451</td>\n",
              "    </tr>\n",
              "  </tbody>\n",
              "</table>\n",
              "</div>"
            ],
            "text/plain": [
              "             topic_0   topic_1   topic_2  ...   topic_7   topic_8   topic_9\n",
              "good_score                                ...                              \n",
              "0           0.183903  0.226292  0.065056  ...  0.033828  0.172662  0.069551\n",
              "1           0.142316  0.226311  0.087173  ...  0.034686  0.127523  0.082451\n",
              "\n",
              "[2 rows x 10 columns]"
            ]
          },
          "metadata": {
            "tags": []
          },
          "execution_count": 32
        }
      ]
    },
    {
      "cell_type": "code",
      "metadata": {
        "id": "QGMAZObWkM7Z",
        "colab_type": "code",
        "outputId": "1eb290bc-aa02-47aa-8ece-fc7344cadd94",
        "colab": {
          "base_uri": "https://localhost:8080/",
          "height": 191
        }
      },
      "source": [
        "for topic in topic_column_names:\n",
        "    print(\"{}: {}\".format(topic, sample_with_topics[topic].corr(sample_with_topics['Score'])))"
      ],
      "execution_count": 33,
      "outputs": [
        {
          "output_type": "stream",
          "text": [
            "topic_0: -0.025292235465098012\n",
            "topic_1: 0.012046757693743665\n",
            "topic_2: 0.06959235818628244\n",
            "topic_3: 0.023446401876468924\n",
            "topic_4: 0.03599689524129321\n",
            "topic_5: 0.03409134227342527\n",
            "topic_6: 0.04691101261547623\n",
            "topic_7: -0.001684816652652065\n",
            "topic_8: -0.13859039591384575\n",
            "topic_9: 0.019007709950536102\n"
          ],
          "name": "stdout"
        }
      ]
    },
    {
      "cell_type": "markdown",
      "metadata": {
        "id": "j-6ZwJyFkM7f",
        "colab_type": "text"
      },
      "source": [
        "Here's an example of a linear regression"
      ]
    },
    {
      "cell_type": "code",
      "metadata": {
        "id": "6vP0Az_OkM7g",
        "colab_type": "code",
        "outputId": "acddb1d1-1926-42f1-a3a4-99db90c43c2f",
        "colab": {
          "base_uri": "https://localhost:8080/",
          "height": 173
        }
      },
      "source": [
        "from sklearn import datasets, linear_model\n",
        "from sklearn.metrics import mean_squared_error, r2_score\n",
        "\n",
        "training_data = sample_with_topics[topic_column_names[:-1]] \n",
        "# We're leaving a column out to avoid multicollinearity\n",
        "\n",
        "regression = linear_model.LinearRegression()\n",
        "\n",
        "# Train the model using the training sets\n",
        "regression.fit(training_data, sample_with_topics['Score'])\n",
        "coefficients = regression.coef_\n",
        "for topic, coef in zip(topic_column_names[:-1], coefficients):\n",
        "  print(\"{}: {}\".format(topic, coef))"
      ],
      "execution_count": 34,
      "outputs": [
        {
          "output_type": "stream",
          "text": [
            "topic_0: -0.21269382796846162\n",
            "topic_1: -0.0843114794912539\n",
            "topic_2: 0.3907048768291855\n",
            "topic_3: 0.10179168229468046\n",
            "topic_4: 0.10070443473499552\n",
            "topic_5: 0.1935251748886604\n",
            "topic_6: 0.1836870262014428\n",
            "topic_7: -0.21131708369325589\n",
            "topic_8: -0.7277794219956407\n"
          ],
          "name": "stdout"
        }
      ]
    },
    {
      "cell_type": "markdown",
      "metadata": {
        "id": "nkdRbLFOkM7k",
        "colab_type": "text"
      },
      "source": [
        "Sadly Scikit-Learn doesn't make it easy to get p-values or a regression report like you'd normally expect of something like R or Stata.  Scikit-Learn is more about prediction than statistical analysis; for the latter, we can use Statsmodels.  "
      ]
    },
    {
      "cell_type": "code",
      "metadata": {
        "id": "mQhoNPl5kM7l",
        "colab_type": "code",
        "outputId": "5a652365-1335-424e-a698-33bdb482af87",
        "colab": {
          "base_uri": "https://localhost:8080/",
          "height": 592
        }
      },
      "source": [
        "import statsmodels.api as sm\n",
        "\n",
        "regression = sm.OLS(sample_with_topics['Score'], training_data)\n",
        "results = regression.fit()\n",
        "print(results.summary())"
      ],
      "execution_count": 35,
      "outputs": [
        {
          "output_type": "stream",
          "text": [
            "                                 OLS Regression Results                                \n",
            "=======================================================================================\n",
            "Dep. Variable:                  Score   R-squared (uncentered):                   0.880\n",
            "Model:                            OLS   Adj. R-squared (uncentered):              0.879\n",
            "Method:                 Least Squares   F-statistic:                              8108.\n",
            "Date:                Mon, 09 Dec 2019   Prob (F-statistic):                        0.00\n",
            "Time:                        16:55:21   Log-Likelihood:                         -18356.\n",
            "No. Observations:               10000   AIC:                                  3.673e+04\n",
            "Df Residuals:                    9991   BIC:                                  3.680e+04\n",
            "Df Model:                           9                                                  \n",
            "Covariance Type:            nonrobust                                                  \n",
            "==============================================================================\n",
            "                 coef    std err          t      P>|t|      [0.025      0.975]\n",
            "------------------------------------------------------------------------------\n",
            "topic_0        4.1609      0.050     83.416      0.000       4.063       4.259\n",
            "topic_1        4.3153      0.040    106.770      0.000       4.236       4.395\n",
            "topic_2        4.9205      0.084     58.298      0.000       4.755       5.086\n",
            "topic_3        4.7685      0.127     37.511      0.000       4.519       5.018\n",
            "topic_4        4.5724      0.074     61.727      0.000       4.427       4.718\n",
            "topic_5        4.6969      0.092     50.872      0.000       4.516       4.878\n",
            "topic_6        4.7141      0.079     59.508      0.000       4.559       4.869\n",
            "topic_7        4.6946      0.180     26.144      0.000       4.343       5.047\n",
            "topic_8        3.6738      0.054     68.502      0.000       3.569       3.779\n",
            "==============================================================================\n",
            "Omnibus:                      472.177   Durbin-Watson:                   1.978\n",
            "Prob(Omnibus):                  0.000   Jarque-Bera (JB):              653.872\n",
            "Skew:                          -0.455   Prob(JB):                    1.03e-142\n",
            "Kurtosis:                       3.861   Cond. No.                         4.76\n",
            "==============================================================================\n",
            "\n",
            "Warnings:\n",
            "[1] Standard Errors assume that the covariance matrix of the errors is correctly specified.\n"
          ],
          "name": "stdout"
        }
      ]
    },
    {
      "cell_type": "markdown",
      "metadata": {
        "id": "2f_w8SaHkM7s",
        "colab_type": "text"
      },
      "source": [
        "### K-Means Clustering"
      ]
    },
    {
      "cell_type": "markdown",
      "metadata": {
        "id": "irPRm24HkM7r",
        "colab_type": "text"
      },
      "source": [
        "We can also check out other unsupervised methods like clustering.  I borrowed/modified some of this code from http://brandonrose.org/clustering"
      ]
    },
    {
      "cell_type": "code",
      "metadata": {
        "id": "4fDUj6lmkM7t",
        "colab_type": "code",
        "colab": {}
      },
      "source": [
        "from sklearn.cluster import KMeans\n",
        "\n",
        "kmeans = KMeans(n_clusters=10, max_iter=50, tol=.01, n_jobs=-1)\n",
        "# http://scikit-learn.org/stable/modules/generated/sklearn.cluster.KMeans.html\n",
        "kmeans.fit(tfidf)\n",
        "clusters = kmeans.labels_.tolist() # You can merge these back into the data if you want"
      ],
      "execution_count": 0,
      "outputs": []
    },
    {
      "cell_type": "code",
      "metadata": {
        "id": "jM0j-kV5kM7w",
        "colab_type": "code",
        "outputId": "1150ee64-0555-4644-ee95-b6abf177344b",
        "colab": {
          "base_uri": "https://localhost:8080/",
          "height": 191
        }
      },
      "source": [
        "centroids = kmeans.cluster_centers_.argsort()[:, ::-1] \n",
        "for i, closest_ngrams in enumerate(centroids):\n",
        "    print(\"Cluster #{}: {}\".format(i, \", \".join(np.array(ngrams)[closest_ngrams[:8]])))"
      ],
      "execution_count": 37,
      "outputs": [
        {
          "output_type": "stream",
          "text": [
            "Cluster #0: chip, potato, bag, flavor, kettle, snack, great, salt\n",
            "Cluster #1: dog, treat, food, love, chew, product, good, bone\n",
            "Cluster #2: tea, taste, green, bag, drink, flavor, good, cup\n",
            "Cluster #3: coffee, cup, flavor, strong, good, taste, roast, bold\n",
            "Cluster #4: chocolate, dark, cooky, taste, hot, good, flavor, milk\n",
            "Cluster #5: cat, food, eat, love, treat, wellness, chicken, dry\n",
            "Cluster #6: product, great, price, good, store, love, taste, time\n",
            "Cluster #7: bar, chocolate, snack, taste, nut, protein, good, sweet\n",
            "Cluster #8: great, love, good, flavor, price, buy, time, store\n",
            "Cluster #9: taste, good, sugar, great, flavor, drink, water, free\n"
          ],
          "name": "stdout"
        }
      ]
    },
    {
      "cell_type": "markdown",
      "metadata": {
        "id": "BEqDN_T5kM72",
        "colab_type": "text"
      },
      "source": [
        "### Agglomerative/Hierarchical Clustering"
      ]
    },
    {
      "cell_type": "markdown",
      "metadata": {
        "id": "ILDEuIfYs_Bk",
        "colab_type": "text"
      },
      "source": [
        "Instead of specifying the number of clusters upfront, now we're going to use hierarchical clustering to characterize how similar words are to each other, again based on their co-occurrence within documents. To keep things manageable, we'll use a smaller set of 500 words."
      ]
    },
    {
      "cell_type": "code",
      "metadata": {
        "id": "u7ewqzz9kM74",
        "colab_type": "code",
        "colab": {}
      },
      "source": [
        "# This Python library lets us produce graphics\n",
        "%matplotlib inline\n",
        "import matplotlib.pyplot as plt"
      ],
      "execution_count": 0,
      "outputs": []
    },
    {
      "cell_type": "code",
      "metadata": {
        "id": "THTuTZzDs6-Y",
        "colab_type": "code",
        "colab": {}
      },
      "source": [
        "tfidf_vectorizer = TfidfVectorizer(\n",
        "    max_df=0.25, # Focus on less common, more unique words\n",
        "    min_df=5, \n",
        "    ngram_range=(1, 1), \n",
        "    stop_words=stop_words, \n",
        "    max_features=200 # <- smaller set of words\n",
        ")\n",
        "tfidf = tfidf_vectorizer.fit_transform(sample['Text'])\n",
        "ngrams = tfidf_vectorizer.get_feature_names()"
      ],
      "execution_count": 0,
      "outputs": []
    },
    {
      "cell_type": "code",
      "metadata": {
        "id": "Ff1y98QakM7-",
        "colab_type": "code",
        "colab": {}
      },
      "source": [
        "from scipy.cluster.hierarchy import linkage, dendrogram\n",
        "from sklearn.metrics.pairwise import cosine_similarity\n",
        "\n",
        "# We'll use cosine similarity to get word similarities based on document overlap\n",
        "# This produces a matrix of every word compared to every other word\n",
        "# With a value of 0 - 1, indicating how often they occur together in the same documents\n",
        "# To get document similarities in terms of word overlap, just drop the .transpose()!\n",
        "similarities = cosine_similarity(tfidf.transpose()) \n",
        "distances = 1 - similarities # Converts to distances\n",
        "clusters = linkage(distances, method='ward') # Run hierarchical clustering on the distances"
      ],
      "execution_count": 0,
      "outputs": []
    },
    {
      "cell_type": "code",
      "metadata": {
        "id": "ksiZDPxskM8F",
        "colab_type": "code",
        "outputId": "8fd4e6d9-fb54-465f-90c7-29f0ac65294b",
        "colab": {
          "base_uri": "https://localhost:8080/",
          "height": 1000
        }
      },
      "source": [
        "fig, ax = plt.subplots(figsize=(10, 40))\n",
        "ax = dendrogram(\n",
        "    clusters, \n",
        "    labels=ngrams, \n",
        "    orientation=\"left\", \n",
        "    leaf_font_size=14, \n",
        "    color_threshold=1.5\n",
        ")\n",
        "plt.tight_layout()"
      ],
      "execution_count": 41,
      "outputs": [
        {
          "output_type": "display_data",
          "data": {
            "image/png": "[encoded data removed]",
            "text/plain": [
              "<Figure size 720x2880 with 1 Axes>"
            ]
          },
          "metadata": {
            "tags": []
          }
        }
      ]
    },
    {
      "cell_type": "code",
      "metadata": {
        "id": "bvdpJyodibbF",
        "colab_type": "code",
        "colab": {}
      },
      "source": [
        ""
      ],
      "execution_count": 0,
      "outputs": []
    }
  ]
}