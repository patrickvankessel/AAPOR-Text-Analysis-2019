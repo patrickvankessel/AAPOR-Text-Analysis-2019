{
  "nbformat": 4,
  "nbformat_minor": 0,
  "metadata": {
    "colab": {
      "name": "Copy of Tutorial.ipynb",
      "provenance": [],
      "collapsed_sections": []
    },
    "kernelspec": {
      "name": "python3",
      "display_name": "Python 3"
    }
  },
  "cells": [
    {
      "cell_type": "markdown",
      "metadata": {
        "id": "DGrFue71kM4L",
        "colab_type": "text"
      },
      "source": [
        "# 2019 AAPOR Text Analytics Tutorial\n",
        "### Patrick van Kessel\n",
        "#### Senior Data Scientist, Pew Research Center"
      ]
    },
    {
      "cell_type": "markdown",
      "metadata": {
        "id": "4aoBDUSeyV2U",
        "colab_type": "text"
      },
      "source": [
        "These materials are adapted from workshops I did in 2018 and 2019 for NYAAPOR, the World Bank, and IBM, with a lot of help from an old colleague of mine, Michael Jugovich (now at IBM). You can access a GitHub repository containing this notebook and the data sample here: https://github.com/patrickvankessel/AAPOR-Text-Analysis-2019 "
      ]
    },
    {
      "cell_type": "markdown",
      "metadata": {
        "id": "rL0gxOcrkM4Q",
        "colab_type": "text"
      },
      "source": [
        "## Loading in the data"
      ]
    },
    {
      "cell_type": "markdown",
      "metadata": {
        "collapsed": true,
        "id": "3ds8U65OkM4S",
        "colab_type": "text"
      },
      "source": [
        "We'll use a sample from the Kaggle Amazon Fine Food Reviews dataset. The full dataset can be found here: https://www.kaggle.com/snap/amazon-fine-food-reviews "
      ]
    },
    {
      "cell_type": "code",
      "metadata": {
        "id": "v6IsyAY1kM4T",
        "colab_type": "code",
        "colab": {}
      },
      "source": [
        "import pandas as pd"
      ],
      "execution_count": 0,
      "outputs": []
    },
    {
      "cell_type": "code",
      "metadata": {
        "id": "A-7xdtl7kM4Z",
        "colab_type": "code",
        "colab": {}
      },
      "source": [
        "sample = pd.read_csv(\"https://raw.githubusercontent.com/patrickvankessel/AAPOR-Text-Analysis-2019/master/kaggle_sample.csv\")"
      ],
      "execution_count": 0,
      "outputs": []
    },
    {
      "cell_type": "code",
      "metadata": {
        "id": "ORYcAyfYkM4e",
        "colab_type": "code",
        "outputId": "5f9112d4-3683-4e70-9706-dc82e3966fec",
        "colab": {
          "base_uri": "https://localhost:8080/",
          "height": 35
        }
      },
      "source": [
        "print(len(sample))"
      ],
      "execution_count": 3,
      "outputs": [
        {
          "output_type": "stream",
          "text": [
            "10000\n"
          ],
          "name": "stdout"
        }
      ]
    },
    {
      "cell_type": "markdown",
      "metadata": {
        "id": "xN6dyIikkM4i",
        "colab_type": "text"
      },
      "source": [
        "Let's see what's in here."
      ]
    },
    {
      "cell_type": "code",
      "metadata": {
        "id": "VfCXzvdhkM4j",
        "colab_type": "code",
        "outputId": "e024517b-b049-43ce-c818-eaafa378c68b",
        "colab": {
          "base_uri": "https://localhost:8080/",
          "height": 621
        }
      },
      "source": [
        "sample.head()"
      ],
      "execution_count": 4,
      "outputs": [
        {
          "output_type": "execute_result",
          "data": {
            "text/html": [
              "<div>\n",
              "<style scoped>\n",
              "    .dataframe tbody tr th:only-of-type {\n",
              "        vertical-align: middle;\n",
              "    }\n",
              "\n",
              "    .dataframe tbody tr th {\n",
              "        vertical-align: top;\n",
              "    }\n",
              "\n",
              "    .dataframe thead th {\n",
              "        text-align: right;\n",
              "    }\n",
              "</style>\n",
              "<table border=\"1\" class=\"dataframe\">\n",
              "  <thead>\n",
              "    <tr style=\"text-align: right;\">\n",
              "      <th></th>\n",
              "      <th>Unnamed: 0</th>\n",
              "      <th>index</th>\n",
              "      <th>Id</th>\n",
              "      <th>ProductId</th>\n",
              "      <th>UserId</th>\n",
              "      <th>ProfileName</th>\n",
              "      <th>HelpfulnessNumerator</th>\n",
              "      <th>HelpfulnessDenominator</th>\n",
              "      <th>Score</th>\n",
              "      <th>Time</th>\n",
              "      <th>Summary</th>\n",
              "      <th>Text</th>\n",
              "    </tr>\n",
              "  </thead>\n",
              "  <tbody>\n",
              "    <tr>\n",
              "      <th>0</th>\n",
              "      <td>0</td>\n",
              "      <td>467510</td>\n",
              "      <td>467511</td>\n",
              "      <td>B003WECB5S</td>\n",
              "      <td>A2G0LDLGXKQFYP</td>\n",
              "      <td>behrlekidsmom</td>\n",
              "      <td>2</td>\n",
              "      <td>2</td>\n",
              "      <td>3</td>\n",
              "      <td>1304640000</td>\n",
              "      <td>Holes in wrappers</td>\n",
              "      <td>The kids said the taste/flavor is fine but A L...</td>\n",
              "    </tr>\n",
              "    <tr>\n",
              "      <th>1</th>\n",
              "      <td>1</td>\n",
              "      <td>291775</td>\n",
              "      <td>291776</td>\n",
              "      <td>B000FVYUFA</td>\n",
              "      <td>A34O5D0QRGV29N</td>\n",
              "      <td>a Dallas reader</td>\n",
              "      <td>1</td>\n",
              "      <td>1</td>\n",
              "      <td>5</td>\n",
              "      <td>1188432000</td>\n",
              "      <td>Absolutely the best!</td>\n",
              "      <td>How can something this good be good for you to...</td>\n",
              "    </tr>\n",
              "    <tr>\n",
              "      <th>2</th>\n",
              "      <td>2</td>\n",
              "      <td>180629</td>\n",
              "      <td>180630</td>\n",
              "      <td>B000CQBZQK</td>\n",
              "      <td>A3ER3V2E06DH7D</td>\n",
              "      <td>A. K. Kaw \"AKK\"</td>\n",
              "      <td>0</td>\n",
              "      <td>1</td>\n",
              "      <td>5</td>\n",
              "      <td>1247529600</td>\n",
              "      <td>Tea meant for a late evening</td>\n",
              "      <td>I love Earl Grey Tea. I have tried Tazo, Twini...</td>\n",
              "    </tr>\n",
              "    <tr>\n",
              "      <th>3</th>\n",
              "      <td>3</td>\n",
              "      <td>412055</td>\n",
              "      <td>412056</td>\n",
              "      <td>B000CQC05K</td>\n",
              "      <td>A39Y02EJ310WJR</td>\n",
              "      <td>Tech Girl \"Wendy\"</td>\n",
              "      <td>2</td>\n",
              "      <td>2</td>\n",
              "      <td>5</td>\n",
              "      <td>1236729600</td>\n",
              "      <td>Full-flavored, delicious tea that you can drin...</td>\n",
              "      <td>This tea is so fruity and full-flavored that i...</td>\n",
              "    </tr>\n",
              "    <tr>\n",
              "      <th>4</th>\n",
              "      <td>4</td>\n",
              "      <td>139779</td>\n",
              "      <td>139780</td>\n",
              "      <td>B001BCXTGS</td>\n",
              "      <td>A1LC1NMRA1ZEDZ</td>\n",
              "      <td>M. Garcia</td>\n",
              "      <td>1</td>\n",
              "      <td>1</td>\n",
              "      <td>5</td>\n",
              "      <td>1244332800</td>\n",
              "      <td>My cat only eats this brand</td>\n",
              "      <td>My cat is not crazy about the snapper and shri...</td>\n",
              "    </tr>\n",
              "  </tbody>\n",
              "</table>\n",
              "</div>"
            ],
            "text/plain": [
              "   Unnamed: 0  ...                                               Text\n",
              "0           0  ...  The kids said the taste/flavor is fine but A L...\n",
              "1           1  ...  How can something this good be good for you to...\n",
              "2           2  ...  I love Earl Grey Tea. I have tried Tazo, Twini...\n",
              "3           3  ...  This tea is so fruity and full-flavored that i...\n",
              "4           4  ...  My cat is not crazy about the snapper and shri...\n",
              "\n",
              "[5 rows x 12 columns]"
            ]
          },
          "metadata": {
            "tags": []
          },
          "execution_count": 4
        }
      ]
    },
    {
      "cell_type": "markdown",
      "metadata": {
        "id": "tG-U3354kM4q",
        "colab_type": "text"
      },
      "source": [
        "### Examine the data"
      ]
    },
    {
      "cell_type": "markdown",
      "metadata": {
        "id": "x155uh5BkM4r",
        "colab_type": "text"
      },
      "source": [
        "Run the cell below a few times, let's take a look at our text and see what it looks like.  Always take a look at your raw data."
      ]
    },
    {
      "cell_type": "code",
      "metadata": {
        "id": "-MjqRrMNkM4s",
        "colab_type": "code",
        "outputId": "1606248b-5e58-495d-f325-b53f3183228e",
        "colab": {
          "base_uri": "https://localhost:8080/",
          "height": 228
        }
      },
      "source": [
        "sample.sample(10)['Text'].values"
      ],
      "execution_count": 5,
      "outputs": [
        {
          "output_type": "execute_result",
          "data": {
            "text/plain": [
              "array(['These are simply the best treats.  They are healthy and my dog LOVES them.  He is a very finicky eater and has digestive problems, so when I find something good - I order in bulk.  These are great - with no guilt!',\n",
              "       \"I don't know why these aren't sold in stores (at least around my area), they are the best flavor of Nature Valley Granola Bars.\",\n",
              "       'Very smooth with no after taste. I took a box to my office and it quickly became the favorite coffee mate cream.',\n",
              "       'PROS:  good odor control, little dust, pleasant appearance, tracking is decent and the smooth crystals don\\'t hurt little paws or bare feet.<br /><br />CONS:  expensive, can\\'t find this brand in any stores nearby if I run out and with two kitties (one with chronic diarrhea), I tend to use A LOT so it adds up in cost.<br /><br />Since getting my kitties a few months ago I\\'ve tried several different litters and am happiest with Ultra Pearls (smooth shape).  They are expensive, but that is the price I\\'m willing to pay for good odor control AND easier scooping, cleaner tracking.  The best odor control was with Fresh Step scoopable clay litter...but it nearly requires a jack-hammer to dislodge the clumps from the bottom of the litter box and from your scoop...plus it looks messy like dirt when it tracks outside.<br /><br />Even though Ultra Pearls are slightly less effective at odor control than Fresh Step, they are still a satisfactory \"second place\" in that department.  Regarding tracking, I want to add that I prefer the smooth crystals to the \"jagged\" because if you have ever stepped on a \"jagged\" crystal litter accidentally in your bare feet...well, you will understand why I prefer smooth crystals!<br /><br />I order with auto-refill for extra discount.',\n",
              "       'This is a mild, great tasting coffee!!  The spice is perfect but not overpowering.  I would highly recommend trying this coffee!',\n",
              "       \"I like bold coffees and should have trusted the other reviewer who said it wasn't strong enough. This one has a watery finish to it and not very much flavor.  I'll be going back to Emeril's Jazz'd Up Decaf and trying the Coffee People's French Roast Decaf.  So far I've loved everything by the coffee people except the organic blend.  If you like strong coffee don't buy this but if you like a weaker coffee that you can see through you'd probably enjoy this one.\",\n",
              "       'I ordered this for my mom who is a shut in and wished for a plant to take care of. I did not have the funds to purchase a \"gift\" plant with a fancy pot etc. I saw this plant for a great price and took a chance that it would be ok. It arrived in GREAT shape with no damage from shipping, mom was very happy and pleased with it which makes me happy as well. I want to thank you for the great price and customer service for this order. I will do this again.',\n",
              "       'I\\'d pretty much given up on baked potato chips cause I hate that funky texture that, for instance, the Lays one has.<br /><br />Since I really love the organic Kettle Chips in chipotle flavor, I decided to give these a go. I got the lightly salted first, and the texture was great. They were very nearly like regular. (A very minimal difference). Crispy, potato-y. Nice.<br /><br />I then ordered these, and I love them. Much tastier than the somewhat bland \"lightly salted\" regular ones. They\\'re sweet and smoky. A very nice barbecue flavor, I have to admit.<br /><br />I really hope they make the chipotle flavor in baked (and organic). I\\'d buy those in a heartbeat.<br /><br />So, for folks looking for a non-fried potato chip alternative (great for brown bagging lunch, four servings to a bag makes them more economical), I recommend the Kettle Bakes. Very good product.<br /><br />Mir',\n",
              "       \"Really am enjoying my Arizona Pomegranate Green Tea -- it's light,refreshing, and I'm sure much better for me than carbonated drinks.  Easy to use, each packet makes 2 quarts.  Very refreshing, try it!\",\n",
              "       \"This and the Costa Rica-origin dark, also from Cachet, are tied as the two best dark chocolates I've ever tasted. The Costa Rica is a purer dark-chocolate flavor; this has a little world of flavors, a bit of fruit and a bit of bite. Outstanding!\"],\n",
              "      dtype=object)"
            ]
          },
          "metadata": {
            "tags": []
          },
          "execution_count": 5
        }
      ]
    },
    {
      "cell_type": "markdown",
      "metadata": {
        "id": "iVp66VmjxShj",
        "colab_type": "text"
      },
      "source": [
        "### Preprocess the text (clean it up!)"
      ]
    },
    {
      "cell_type": "markdown",
      "metadata": {
        "id": "6DCVsDzvkM4w",
        "colab_type": "text"
      },
      "source": [
        "I don't know about you, but I noticed some junk in our data - HTML and URLs.  Let's clear that out first.  We'll also take this opportunity to lemmatize the words - to do that, we'll install NLTK's WordNet library."
      ]
    },
    {
      "cell_type": "code",
      "metadata": {
        "id": "VlbJ92eCwSAY",
        "colab_type": "code",
        "outputId": "1df92f7c-6ace-4937-c4c8-8e8fc27a983f",
        "colab": {
          "base_uri": "https://localhost:8080/",
          "height": 69
        }
      },
      "source": [
        "import nltk\n",
        "nltk.download('wordnet')"
      ],
      "execution_count": 6,
      "outputs": [
        {
          "output_type": "stream",
          "text": [
            "[nltk_data] Downloading package wordnet to /root/nltk_data...\n",
            "[nltk_data]   Package wordnet is already up-to-date!\n"
          ],
          "name": "stdout"
        },
        {
          "output_type": "execute_result",
          "data": {
            "text/plain": [
              "True"
            ]
          },
          "metadata": {
            "tags": []
          },
          "execution_count": 6
        }
      ]
    },
    {
      "cell_type": "code",
      "metadata": {
        "id": "B0FSjgoRkM4y",
        "colab_type": "code",
        "colab": {}
      },
      "source": [
        "import re\n",
        "from nltk.stem import WordNetLemmatizer\n",
        "\n",
        "# Initialize a lemmatizer\n",
        "lemmatizer = WordNetLemmatizer()\n",
        "\n",
        "def clean_text(text):\n",
        "    # First we'll use regular expressions to strip out links and HTML tags\n",
        "    text = re.sub(r'http[a-zA-Z0-9\\&\\?\\=\\?\\/\\:\\.]+\\b', ' ', text)\n",
        "    text = re.sub(r'\\<[^\\<\\>]+\\>', ' ', text)\n",
        "    # Next, let's clear out all punctuation and replace it with whitespace\n",
        "    text = re.sub(r'\\W+', ' ', text) \n",
        "    # And then lowercase\n",
        "    text = text.lower()\n",
        "    # This isn't going to be perfect - ideally we expand contractions first\n",
        "    # And also deal with spelling corrections\n",
        "    # But this will work well enough for now\n",
        "    \n",
        "    # Next, let's split on whitespace and then lemmatize each token\n",
        "    tokens = text.split()\n",
        "    tokens = [lemmatizer.lemmatize(x) for x in tokens]\n",
        "    text = \" \".join(tokens)\n",
        "  \n",
        "    return text\n",
        "\n",
        "sample['Text'] = sample['Text'].map(clean_text)"
      ],
      "execution_count": 0,
      "outputs": []
    },
    {
      "cell_type": "markdown",
      "metadata": {
        "id": "gYRw8_IeZHUu",
        "colab_type": "text"
      },
      "source": [
        "Let's see what our data look like now that we've processed the text"
      ]
    },
    {
      "cell_type": "code",
      "metadata": {
        "id": "EWHGd3sDZCuy",
        "colab_type": "code",
        "colab": {
          "base_uri": "https://localhost:8080/",
          "height": 228
        },
        "outputId": "5deb93f7-31b0-45b9-a9ea-2af5428e3f0a"
      },
      "source": [
        "sample.sample(10)['Text'].values"
      ],
      "execution_count": 8,
      "outputs": [
        {
          "output_type": "execute_result",
          "data": {
            "text/plain": [
              "array(['my husband wanted this coffee maker not me i thought it wa too expensive still do and the coffee wa too expensive still do we bought the newman s decaf and really liked it when we were in a hurry the coffee maker is great i decided to give another decaf a try and tried emeril s jazzed up decaf it is a great coffee no after taste and a good rich coffee my son who drink only reg coffee doe not know the difference with emeril s it s still over priced but it s good i am not a big coffee drinker one cup in the morning is about it but i like this one',\n",
              "       'this is a wonderful cup of coffee no matter what time of day you drink it it is so smooth and not bitter after dinner it is like having a desert the sale price i paid wa impossible to beat thank you amazon this flavor is one one of my very favorite i love my keurig coffee maker',\n",
              "       'a quick way to make good sushi at home all you need is the vegetable and meat everything else is in the kit fast to prepare',\n",
              "       'these are packed with flavor and with vitamin i recommend them a a healthy snack for kid or adult oh and of course the organic aspect of them just rock',\n",
              "       'this is a x ma present the can are big enough and the package arrived on time in good shape it will be fun',\n",
              "       'delicious taste so convenient i bought the 6 oz popcorn packet just to try it on my new popcorn machine little did i know i would get hooked on the delicious movie theater taste with none of the fat issue of other brand there are a fair amount of unpopped kernel but the volume and extraordinary flavor allows the user to overlook that if you are a diehard popcorn lover who go to the movie for the popcorn you ll never have to leave home again',\n",
              "       'i got this is my mom vox box from influensters to try and my little daughter ate it right up she thought she wouldn t like it because of the rasins but she loved it she said it wa very soft and yummy she said it reminds her of grandma cooky it tasted like homemade cooky she said she loved them so much she asked to buy her more every time we go to the store i wa very impressed',\n",
              "       'i think people either love or hate 5 hour energy if you re here then you probably love it and a i wa looking for the cheapest place to buy 5hour in bulk gave it 5stars because 5hour is awesome the energy feel clean compared to energy drink and coffee there really isn t any other way to explain it i know it against guideline to talk about price but this 12 pack of pomegranate wa the cheapest at the time 19 or so with free shipping if anyone find cheaper please leave a comment with link to item',\n",
              "       'i am extremely disappointed in the 2 pound pack deal the mango were not bite size they were whole sliver of mango some over 3 they were mostly extremely dry and tasteless it seemed a if bare fruit put their unusable left over into those large 1 package you will receive a total of 2 with this order a complete opposite to the smaller package which i enjoy tremendously i will only order the small package in the future to avoid a debacle like this again the bite size mango piece in the small package are chewy tasty and a wonderful snack',\n",
              "       'i ordered these because i m paralyzed and have a hard time getting out of the house i know the price is a bit high but given my situation i didn t mind there is only one word i can think of to describe the truffle delicious if you like white chocolate you have to try these'],\n",
              "      dtype=object)"
            ]
          },
          "metadata": {
            "tags": []
          },
          "execution_count": 8
        }
      ]
    },
    {
      "cell_type": "markdown",
      "metadata": {
        "id": "_Tce9LW5kM47",
        "colab_type": "text"
      },
      "source": [
        "## TF-IDF Vectorization (Feature Extraction)"
      ]
    },
    {
      "cell_type": "markdown",
      "metadata": {
        "id": "5M6xvlbgxCAg",
        "colab_type": "text"
      },
      "source": [
        "Just to be safe, let's add some additional words to a standard list of English stop words."
      ]
    },
    {
      "cell_type": "code",
      "metadata": {
        "id": "upq30VrJxJeo",
        "colab_type": "code",
        "colab": {}
      },
      "source": [
        "from sklearn.feature_extraction import stop_words as sklearn_stop_words\n",
        "# Grab standard English stopwords\n",
        "stop_words = set(sklearn_stop_words.ENGLISH_STOP_WORDS)\n",
        "# And add in some of our own\n",
        "stop_words = stop_words.union(set([\n",
        "    \"www\", \"http\", \"https\", \"br\", \"amazon\", \"href\", \"wa\", \"ha\"\n",
        "]))"
      ],
      "execution_count": 0,
      "outputs": []
    },
    {
      "cell_type": "markdown",
      "metadata": {
        "id": "g5GxTc_lkM48",
        "colab_type": "text"
      },
      "source": [
        "Okay, now let's tokenize our text and turn it into numbers"
      ]
    },
    {
      "cell_type": "code",
      "metadata": {
        "id": "xN7oPF2wkM49",
        "colab_type": "code",
        "colab": {}
      },
      "source": [
        "from sklearn.feature_extraction.text import TfidfVectorizer, CountVectorizer\n",
        "\n",
        "tfidf_vectorizer = TfidfVectorizer(\n",
        "    max_df=0.9, # Remove any words that appear in more than 90% of our documents\n",
        "    min_df=5, # Remove words that appear in fewer than 5 document\n",
        "    ngram_range=(1, 1), # Only extract unigrams\n",
        "    stop_words=stop_words, # Remove stopwords\n",
        "    max_features=2500 # Grab the 2500 most common words (based on above constraints)\n",
        ")\n",
        "tfidf = tfidf_vectorizer.fit_transform(sample['Text'])\n",
        "ngrams = tfidf_vectorizer.get_feature_names()"
      ],
      "execution_count": 0,
      "outputs": []
    },
    {
      "cell_type": "code",
      "metadata": {
        "id": "nL16ucdPkM5G",
        "colab_type": "code",
        "outputId": "63bef9a5-bd8c-477c-e3f8-1ba8aa6a1518",
        "colab": {
          "base_uri": "https://localhost:8080/",
          "height": 52
        }
      },
      "source": [
        "tfidf"
      ],
      "execution_count": 11,
      "outputs": [
        {
          "output_type": "execute_result",
          "data": {
            "text/plain": [
              "<10000x2500 sparse matrix of type '<class 'numpy.float64'>'\n",
              "\twith 253177 stored elements in Compressed Sparse Row format>"
            ]
          },
          "metadata": {
            "tags": []
          },
          "execution_count": 11
        }
      ]
    },
    {
      "cell_type": "markdown",
      "metadata": {
        "id": "awan15pukM5Q",
        "colab_type": "text"
      },
      "source": [
        "Because words are really big, by default we work with sparse matrices.  We can expand the sparse matrix with `.todense()` and compute sums like a normal dataframe.  Let's check out the top 20 words."
      ]
    },
    {
      "cell_type": "code",
      "metadata": {
        "id": "gg3Lj0jDkM5S",
        "colab_type": "code",
        "outputId": "85d0fc57-c3a6-4371-dbd7-73961f26203e",
        "colab": {
          "base_uri": "https://localhost:8080/",
          "height": 381
        }
      },
      "source": [
        "ngram_df = pd.DataFrame(tfidf.todense(), columns=ngrams) \n",
        "ngram_df.sum().sort_values(ascending=False)[:20]"
      ],
      "execution_count": 12,
      "outputs": [
        {
          "output_type": "execute_result",
          "data": {
            "text/plain": [
              "like       320.322071\n",
              "coffee     314.590534\n",
              "good       306.346477\n",
              "taste      303.648918\n",
              "great      294.419698\n",
              "tea        285.204658\n",
              "love       281.993501\n",
              "product    279.948502\n",
              "flavor     276.506974\n",
              "just       235.293939\n",
              "food       212.165279\n",
              "dog        204.843193\n",
              "really     177.518550\n",
              "price      173.636666\n",
              "time       164.651516\n",
              "make       164.497317\n",
              "cup        163.469380\n",
              "buy        161.814995\n",
              "best       160.949135\n",
              "bag        153.382045\n",
              "dtype: float64"
            ]
          },
          "metadata": {
            "tags": []
          },
          "execution_count": 12
        }
      ]
    },
    {
      "cell_type": "markdown",
      "metadata": {
        "id": "sazZ9V-QkM5Z",
        "colab_type": "text"
      },
      "source": [
        "## Classification"
      ]
    },
    {
      "cell_type": "markdown",
      "metadata": {
        "id": "TFOKxLkBkM5a",
        "colab_type": "text"
      },
      "source": [
        "Let's make an outcome variable.  How about we try to predict 5-star reviews, and then maybe helpfulness?"
      ]
    },
    {
      "cell_type": "code",
      "metadata": {
        "id": "O9Yv0TjbkM5c",
        "colab_type": "code",
        "colab": {}
      },
      "source": [
        "sample['good_score'] = sample['Score'].map(lambda x: 1 if x == 5 else 0)\n",
        "sample['was_helpful'] = ((sample['HelpfulnessNumerator'] / sample['HelpfulnessDenominator']).fillna(0.0) > .80).astype(int)"
      ],
      "execution_count": 0,
      "outputs": []
    },
    {
      "cell_type": "code",
      "metadata": {
        "id": "l-nGtmE0kM5f",
        "colab_type": "code",
        "colab": {}
      },
      "source": [
        "column_to_predict = 'good_score'"
      ],
      "execution_count": 0,
      "outputs": []
    },
    {
      "cell_type": "code",
      "metadata": {
        "id": "TeHT5KaskM5k",
        "colab_type": "code",
        "colab": {}
      },
      "source": [
        "from sklearn.model_selection import StratifiedKFold\n",
        "from sklearn import svm\n",
        "from sklearn import metrics\n",
        "\n",
        "results = []\n",
        "kfolds = StratifiedKFold(n_splits=5)"
      ],
      "execution_count": 0,
      "outputs": []
    },
    {
      "cell_type": "markdown",
      "metadata": {
        "id": "L5bpQLmdkM5o",
        "colab_type": "text"
      },
      "source": [
        "We just created an object that'll split the data into fifths, and then iterate over it five times, holding out one-fifth each time for testing.  Let's do that now.  Each \"fold\" contains an index for training rows, and one for testing rows.  For each fold, we'll train a basic linear Support Vector Machine, and evaluate its performance."
      ]
    },
    {
      "cell_type": "code",
      "metadata": {
        "id": "7pjTP4XHkM5p",
        "colab_type": "code",
        "outputId": "01cb7011-ba1c-4731-f854-cd820b323b37",
        "colab": {
          "base_uri": "https://localhost:8080/",
          "height": 104
        }
      },
      "source": [
        "for i, fold in enumerate(kfolds.split(tfidf, sample[column_to_predict])):\n",
        "    \n",
        "    train, test = fold \n",
        "    print(\"Running new fold, {} training cases, {} testing cases\".format(len(train), len(test)))\n",
        "    \n",
        "    clf = svm.LinearSVC(\n",
        "        max_iter=1000,\n",
        "        penalty='l2',\n",
        "        class_weight='balanced',\n",
        "        loss='squared_hinge'\n",
        "    )\n",
        "    # We picked some decent starting parameters, but you can try out different ones\n",
        "    # http://scikit-learn.org/stable/modules/generated/sklearn.svm.LinearSVC.html \n",
        "    # If you're ambitious - check out the Scikit-Learn documentation and test out different models\n",
        "    # http://scikit-learn.org/stable/supervised_learning.html\n",
        "    # XGBoost is one of my favorites, and there's an Scikit-Learn wrapper for it\n",
        "    # https://machinelearningmastery.com/develop-first-xgboost-model-python-scikit-learn/\n",
        "    \n",
        "    training_text = tfidf[train]\n",
        "    training_outcomes = sample[column_to_predict].loc[train]\n",
        "    clf.fit(training_text, training_outcomes) # Train the classifier on the training data\n",
        "    \n",
        "    test_text = tfidf[test]\n",
        "    test_outcomes = sample[column_to_predict].loc[test]\n",
        "    predictions = clf.predict(test_text) # Get predictions for the test data\n",
        "    \n",
        "    precision, recall, fscore, support = metrics.precision_recall_fscore_support(\n",
        "        test_outcomes, # Compare the predictions against the true outcomes\n",
        "        predictions\n",
        "    )\n",
        "    \n",
        "    results.append({\n",
        "        \"fold\": i,\n",
        "        \"outcome\": 0,\n",
        "        \"precision\": precision[0],\n",
        "        \"recall\": recall[0],\n",
        "        \"fscore\": fscore[0],\n",
        "        \"support\": support[0]\n",
        "    })\n",
        "    \n",
        "    results.append({\n",
        "        \"fold\": i,\n",
        "        \"outcome\": 1,\n",
        "        \"precision\": precision[1],\n",
        "        \"recall\": recall[1],\n",
        "        \"fscore\": fscore[1],\n",
        "        \"support\": support[1]\n",
        "    })\n",
        "    \n",
        "results = pd.DataFrame(results)"
      ],
      "execution_count": 16,
      "outputs": [
        {
          "output_type": "stream",
          "text": [
            "Running new fold, 8000 training cases, 2000 testing cases\n",
            "Running new fold, 8000 training cases, 2000 testing cases\n",
            "Running new fold, 8000 training cases, 2000 testing cases\n",
            "Running new fold, 8000 training cases, 2000 testing cases\n",
            "Running new fold, 8000 training cases, 2000 testing cases\n"
          ],
          "name": "stdout"
        }
      ]
    },
    {
      "cell_type": "markdown",
      "metadata": {
        "id": "a1NrCFi1kM5t",
        "colab_type": "text"
      },
      "source": [
        "How'd we do?"
      ]
    },
    {
      "cell_type": "code",
      "metadata": {
        "id": "9wJQJUDHkM5w",
        "colab_type": "code",
        "outputId": "5ff7ca3b-dada-4dd5-8db0-5d7e06286221",
        "colab": {
          "base_uri": "https://localhost:8080/",
          "height": 156
        }
      },
      "source": [
        "print(results.groupby(\"outcome\").mean()[['precision', 'recall']])\n",
        "print(results.groupby(\"outcome\").std()[['precision', 'recall']])"
      ],
      "execution_count": 17,
      "outputs": [
        {
          "output_type": "stream",
          "text": [
            "         precision    recall\n",
            "outcome                     \n",
            "0         0.639456  0.697674\n",
            "1         0.816236  0.773365\n",
            "         precision    recall\n",
            "outcome                     \n",
            "0         0.010269  0.014380\n",
            "1         0.007468  0.008406\n"
          ],
          "name": "stdout"
        }
      ]
    },
    {
      "cell_type": "markdown",
      "metadata": {
        "id": "U2rUl89xkM50",
        "colab_type": "text"
      },
      "source": [
        "Now we know that our model is pretty stable and reasonably performant, we can fit and transform the full dataset."
      ]
    },
    {
      "cell_type": "code",
      "metadata": {
        "id": "wjs8Wai1kM52",
        "colab_type": "code",
        "outputId": "15a5e43a-5317-4aa1-8552-59bc7dd86634",
        "colab": {
          "base_uri": "https://localhost:8080/",
          "height": 208
        }
      },
      "source": [
        "clf.fit(tfidf, sample[column_to_predict])  \n",
        "print(metrics.classification_report(sample[column_to_predict].loc[test], predictions))\n",
        "print(metrics.confusion_matrix(sample[column_to_predict].loc[test], predictions))"
      ],
      "execution_count": 18,
      "outputs": [
        {
          "output_type": "stream",
          "text": [
            "              precision    recall  f1-score   support\n",
            "\n",
            "           0       0.64      0.71      0.67       731\n",
            "           1       0.82      0.77      0.79      1269\n",
            "\n",
            "    accuracy                           0.75      2000\n",
            "   macro avg       0.73      0.74      0.73      2000\n",
            "weighted avg       0.75      0.75      0.75      2000\n",
            "\n",
            "[[521 210]\n",
            " [298 971]]\n"
          ],
          "name": "stdout"
        }
      ]
    },
    {
      "cell_type": "markdown",
      "metadata": {
        "id": "MJbHn-M9kM58",
        "colab_type": "text"
      },
      "source": [
        "And now we can see what the most predictive features are."
      ]
    },
    {
      "cell_type": "code",
      "metadata": {
        "id": "1NPFIjeBkM58",
        "colab_type": "code",
        "outputId": "b3061487-58b7-44f8-9e96-f07f70188988",
        "colab": {
          "base_uri": "https://localhost:8080/",
          "height": 191
        }
      },
      "source": [
        "import numpy as np\n",
        "\n",
        "ngram_coefs = sorted(zip(ngrams, clf.coef_[0]), key=lambda x: x[1], reverse=True)\n",
        "ngram_coefs[:10]"
      ],
      "execution_count": 19,
      "outputs": [
        {
          "output_type": "execute_result",
          "data": {
            "text/plain": [
              "[('highly', 3.0783038859825864),\n",
              " ('best', 2.4898490541238596),\n",
              " ('love', 2.3261940003743473),\n",
              " ('perfect', 2.289348501822659),\n",
              " ('favorite', 2.1284224025497416),\n",
              " ('wonderful', 2.07501846415182),\n",
              " ('cancer', 1.9305447689912651),\n",
              " ('fabulous', 1.8998909029502213),\n",
              " ('addicted', 1.863577244340993),\n",
              " ('european', 1.8319565370713156)]"
            ]
          },
          "metadata": {
            "tags": []
          },
          "execution_count": 19
        }
      ]
    },
    {
      "cell_type": "markdown",
      "metadata": {
        "collapsed": true,
        "id": "lrPmLIGckM5_",
        "colab_type": "text"
      },
      "source": [
        "What happens if you change the outcome column to \"was_helpful\" and re-run it again?  Can you think of ways to improve this?  Add more stopwords?  Include bigrams in addition to unigrams?"
      ]
    },
    {
      "cell_type": "markdown",
      "metadata": {
        "id": "HSbNaH3LkM6B",
        "colab_type": "text"
      },
      "source": [
        "## Topic Modeling"
      ]
    },
    {
      "cell_type": "code",
      "metadata": {
        "id": "3Gg7Jz4LkM6B",
        "colab_type": "code",
        "colab": {}
      },
      "source": [
        "from sklearn.decomposition import NMF, LatentDirichletAllocation"
      ],
      "execution_count": 0,
      "outputs": []
    },
    {
      "cell_type": "code",
      "metadata": {
        "id": "Or9lX_kRkM6F",
        "colab_type": "code",
        "colab": {}
      },
      "source": [
        "def print_top_words(model, feature_names, n_top_words):\n",
        "    for topic_idx, topic in enumerate(model.components_):\n",
        "        print(\"Topic #{}: {}\".format(\n",
        "            topic_idx,\n",
        "            \", \".join([feature_names[i] for i in topic.argsort()[:-n_top_words - 1:-1]])\n",
        "        ))"
      ],
      "execution_count": 0,
      "outputs": []
    },
    {
      "cell_type": "markdown",
      "metadata": {
        "id": "O8EFVHOpkM6N",
        "colab_type": "text"
      },
      "source": [
        "Let's find some topics.  We'll check out non-negative matrix factorization (NMF) first."
      ]
    },
    {
      "cell_type": "code",
      "metadata": {
        "id": "RZ--hFgHkM6O",
        "colab_type": "code",
        "outputId": "9bdbbee6-0cf2-422e-8aa6-49fd173e3a01",
        "colab": {
          "base_uri": "https://localhost:8080/",
          "height": 225
        }
      },
      "source": [
        "nmf = NMF(n_components=10, random_state=42, alpha=.1, l1_ratio=.5).fit(tfidf)\n",
        "# Try out different numbers of topics (change n_components)\n",
        "# Documentation: http://scikit-learn.org/stable/modules/generated/sklearn.decomposition.NMF.html\n",
        "print(\"\\nTopics in NMF model:\")\n",
        "print_top_words(nmf, ngrams, 10)"
      ],
      "execution_count": 22,
      "outputs": [
        {
          "output_type": "stream",
          "text": [
            "\n",
            "Topics in NMF model:\n",
            "Topic #0: like, taste, flavor, just, really, don, sugar, water, make, ve\n",
            "Topic #1: coffee, cup, strong, roast, bold, flavor, blend, keurig, pod, like\n",
            "Topic #2: tea, green, bag, drink, cup, iced, stash, black, earl, taste\n",
            "Topic #3: dog, treat, love, food, chew, bone, small, size, teeth, training\n",
            "Topic #4: cat, food, eat, dry, wellness, canned, chicken, ingredient, vet, wet\n",
            "Topic #5: product, great, price, store, buy, love, order, shipping, time, local\n",
            "Topic #6: bar, snack, protein, nut, calorie, peanut, healthy, candy, sweet, fat\n",
            "Topic #7: chocolate, dark, hot, cooky, milk, cocoa, white, best, tasted, cookie\n",
            "Topic #8: chip, bag, salt, potato, snack, kettle, vinegar, flavor, love, salty\n",
            "Topic #9: good, really, price, pretty, taste, quality, quite, fresh, tasting, enjoy\n"
          ],
          "name": "stdout"
        }
      ]
    },
    {
      "cell_type": "markdown",
      "metadata": {
        "id": "4kclKM2ykM6R",
        "colab_type": "text"
      },
      "source": [
        "LDA is an other popular topic modeling technique"
      ]
    },
    {
      "cell_type": "code",
      "metadata": {
        "id": "vR7vcXqBkM6S",
        "colab_type": "code",
        "outputId": "5c57edeb-e06f-4c5e-ce1c-a085ada1e9ae",
        "colab": {
          "base_uri": "https://localhost:8080/",
          "height": 225
        }
      },
      "source": [
        "lda = LatentDirichletAllocation(n_components=10, random_state=42).fit(tfidf)\n",
        "# Documentation: http://scikit-learn.org/stable/modules/generated/sklearn.decomposition.LatentDirichletAllocation.html\n",
        "# doc_topic_prior (alpha) - lower alpha means documents will be composed of fewer topics (higher means a more uniform distriution across all topics)\n",
        "# topic_word_prior (beta) - lower beta means topics will be composed of fewer words (higher means a more uniform distribution across all words)\n",
        "print(\"\\nTopics in LDA model:\")\n",
        "print_top_words(lda, ngrams, 10)"
      ],
      "execution_count": 23,
      "outputs": [
        {
          "output_type": "stream",
          "text": [
            "\n",
            "Topics in LDA model:\n",
            "Topic #0: chocolate, bar, snack, kid, great, like, candy, taste, sweet, good\n",
            "Topic #1: dog, treat, chew, love, toy, bone, training, hair, teeth, pill\n",
            "Topic #2: pretzel, jack, nut, licorice, pomegranate, link, temptation, broccoli, pistachio, black\n",
            "Topic #3: taste, like, good, great, flavor, just, love, chip, product, snack\n",
            "Topic #4: gift, arrived, great, jerky, product, order, received, christmas, item, good\n",
            "Topic #5: tea, hot, taste, flavor, drink, like, love, great, good, green\n",
            "Topic #6: popcorn, chocolate, product, box, like, bag, just, good, date, order\n",
            "Topic #7: coffee, cup, flavor, taste, like, good, strong, roast, great, drink\n",
            "Topic #8: product, price, store, buy, box, good, bag, taste, great, like\n",
            "Topic #9: food, cat, dog, love, treat, product, eat, year, price, good\n"
          ],
          "name": "stdout"
        }
      ]
    },
    {
      "cell_type": "markdown",
      "metadata": {
        "id": "nRMNyOYPkM6Y",
        "colab_type": "text"
      },
      "source": [
        "We can use the topic models the same way we did our classifier - everything in Scikit-Learn follows the same fit/transform paradigm.  So, let's get the topics for our documents."
      ]
    },
    {
      "cell_type": "code",
      "metadata": {
        "id": "9SLdy_WNkM6Z",
        "colab_type": "code",
        "colab": {}
      },
      "source": [
        "doc_topics = pd.DataFrame(lda.transform(tfidf))"
      ],
      "execution_count": 0,
      "outputs": []
    },
    {
      "cell_type": "code",
      "metadata": {
        "id": "v2NI2UyrkM6c",
        "colab_type": "code",
        "outputId": "9376b1d4-df08-4006-eab2-53d26fae30cb",
        "colab": {
          "base_uri": "https://localhost:8080/",
          "height": 202
        }
      },
      "source": [
        "doc_topics.head()"
      ],
      "execution_count": 25,
      "outputs": [
        {
          "output_type": "execute_result",
          "data": {
            "text/html": [
              "<div>\n",
              "<style scoped>\n",
              "    .dataframe tbody tr th:only-of-type {\n",
              "        vertical-align: middle;\n",
              "    }\n",
              "\n",
              "    .dataframe tbody tr th {\n",
              "        vertical-align: top;\n",
              "    }\n",
              "\n",
              "    .dataframe thead th {\n",
              "        text-align: right;\n",
              "    }\n",
              "</style>\n",
              "<table border=\"1\" class=\"dataframe\">\n",
              "  <thead>\n",
              "    <tr style=\"text-align: right;\">\n",
              "      <th></th>\n",
              "      <th>0</th>\n",
              "      <th>1</th>\n",
              "      <th>2</th>\n",
              "      <th>3</th>\n",
              "      <th>4</th>\n",
              "      <th>5</th>\n",
              "      <th>6</th>\n",
              "      <th>7</th>\n",
              "      <th>8</th>\n",
              "      <th>9</th>\n",
              "    </tr>\n",
              "  </thead>\n",
              "  <tbody>\n",
              "    <tr>\n",
              "      <th>0</th>\n",
              "      <td>0.522646</td>\n",
              "      <td>0.024104</td>\n",
              "      <td>0.024094</td>\n",
              "      <td>0.024104</td>\n",
              "      <td>0.024096</td>\n",
              "      <td>0.024099</td>\n",
              "      <td>0.284551</td>\n",
              "      <td>0.024104</td>\n",
              "      <td>0.024103</td>\n",
              "      <td>0.024099</td>\n",
              "    </tr>\n",
              "    <tr>\n",
              "      <th>1</th>\n",
              "      <td>0.027765</td>\n",
              "      <td>0.027764</td>\n",
              "      <td>0.027761</td>\n",
              "      <td>0.027767</td>\n",
              "      <td>0.027764</td>\n",
              "      <td>0.027767</td>\n",
              "      <td>0.027767</td>\n",
              "      <td>0.750109</td>\n",
              "      <td>0.027769</td>\n",
              "      <td>0.027767</td>\n",
              "    </tr>\n",
              "    <tr>\n",
              "      <th>2</th>\n",
              "      <td>0.016935</td>\n",
              "      <td>0.016939</td>\n",
              "      <td>0.016935</td>\n",
              "      <td>0.016940</td>\n",
              "      <td>0.016935</td>\n",
              "      <td>0.847561</td>\n",
              "      <td>0.016942</td>\n",
              "      <td>0.016939</td>\n",
              "      <td>0.016937</td>\n",
              "      <td>0.016937</td>\n",
              "    </tr>\n",
              "    <tr>\n",
              "      <th>3</th>\n",
              "      <td>0.023145</td>\n",
              "      <td>0.023149</td>\n",
              "      <td>0.023144</td>\n",
              "      <td>0.023148</td>\n",
              "      <td>0.023147</td>\n",
              "      <td>0.791679</td>\n",
              "      <td>0.023146</td>\n",
              "      <td>0.023150</td>\n",
              "      <td>0.023147</td>\n",
              "      <td>0.023146</td>\n",
              "    </tr>\n",
              "    <tr>\n",
              "      <th>4</th>\n",
              "      <td>0.021646</td>\n",
              "      <td>0.021650</td>\n",
              "      <td>0.021646</td>\n",
              "      <td>0.476330</td>\n",
              "      <td>0.021646</td>\n",
              "      <td>0.021648</td>\n",
              "      <td>0.021648</td>\n",
              "      <td>0.021648</td>\n",
              "      <td>0.021648</td>\n",
              "      <td>0.350490</td>\n",
              "    </tr>\n",
              "  </tbody>\n",
              "</table>\n",
              "</div>"
            ],
            "text/plain": [
              "          0         1         2  ...         7         8         9\n",
              "0  0.522646  0.024104  0.024094  ...  0.024104  0.024103  0.024099\n",
              "1  0.027765  0.027764  0.027761  ...  0.750109  0.027769  0.027767\n",
              "2  0.016935  0.016939  0.016935  ...  0.016939  0.016937  0.016937\n",
              "3  0.023145  0.023149  0.023144  ...  0.023150  0.023147  0.023146\n",
              "4  0.021646  0.021650  0.021646  ...  0.021648  0.021648  0.350490\n",
              "\n",
              "[5 rows x 10 columns]"
            ]
          },
          "metadata": {
            "tags": []
          },
          "execution_count": 25
        }
      ]
    },
    {
      "cell_type": "code",
      "metadata": {
        "id": "6V_BjnkPkM6g",
        "colab_type": "code",
        "colab": {}
      },
      "source": [
        "topic_column_names = [\"topic_{}\".format(c) for c in doc_topics.columns]\n",
        "doc_topics.columns = topic_column_names"
      ],
      "execution_count": 0,
      "outputs": []
    },
    {
      "cell_type": "markdown",
      "metadata": {
        "id": "DPQuLr80kM6p",
        "colab_type": "text"
      },
      "source": [
        "Next we use Pandas to join the topics with the original sample dataframe"
      ]
    },
    {
      "cell_type": "code",
      "metadata": {
        "id": "qdBumd8OkM6v",
        "colab_type": "code",
        "colab": {}
      },
      "source": [
        "sample_with_topics = pd.concat([sample, doc_topics], axis=1)"
      ],
      "execution_count": 0,
      "outputs": []
    },
    {
      "cell_type": "markdown",
      "metadata": {
        "id": "2oEmbWh9kM7T",
        "colab_type": "text"
      },
      "source": [
        "Let's look for patterns by running some means and correlations"
      ]
    },
    {
      "cell_type": "code",
      "metadata": {
        "id": "nSykwVGAkM7W",
        "colab_type": "code",
        "outputId": "1a563600-3ea9-48d2-ac04-0943c581fd13",
        "colab": {
          "base_uri": "https://localhost:8080/",
          "height": 141
        }
      },
      "source": [
        "topic_columns = [col for col in sample_with_topics.columns if col.startswith(\"topic_\")]\n",
        "sample_with_topics.groupby(\"good_score\").mean()[topic_columns]"
      ],
      "execution_count": 28,
      "outputs": [
        {
          "output_type": "execute_result",
          "data": {
            "text/html": [
              "<div>\n",
              "<style scoped>\n",
              "    .dataframe tbody tr th:only-of-type {\n",
              "        vertical-align: middle;\n",
              "    }\n",
              "\n",
              "    .dataframe tbody tr th {\n",
              "        vertical-align: top;\n",
              "    }\n",
              "\n",
              "    .dataframe thead th {\n",
              "        text-align: right;\n",
              "    }\n",
              "</style>\n",
              "<table border=\"1\" class=\"dataframe\">\n",
              "  <thead>\n",
              "    <tr style=\"text-align: right;\">\n",
              "      <th></th>\n",
              "      <th>topic_0</th>\n",
              "      <th>topic_1</th>\n",
              "      <th>topic_2</th>\n",
              "      <th>topic_3</th>\n",
              "      <th>topic_4</th>\n",
              "      <th>topic_5</th>\n",
              "      <th>topic_6</th>\n",
              "      <th>topic_7</th>\n",
              "      <th>topic_8</th>\n",
              "      <th>topic_9</th>\n",
              "    </tr>\n",
              "    <tr>\n",
              "      <th>good_score</th>\n",
              "      <th></th>\n",
              "      <th></th>\n",
              "      <th></th>\n",
              "      <th></th>\n",
              "      <th></th>\n",
              "      <th></th>\n",
              "      <th></th>\n",
              "      <th></th>\n",
              "      <th></th>\n",
              "      <th></th>\n",
              "    </tr>\n",
              "  </thead>\n",
              "  <tbody>\n",
              "    <tr>\n",
              "      <th>0</th>\n",
              "      <td>0.046504</td>\n",
              "      <td>0.049866</td>\n",
              "      <td>0.025134</td>\n",
              "      <td>0.259905</td>\n",
              "      <td>0.038543</td>\n",
              "      <td>0.092013</td>\n",
              "      <td>0.113540</td>\n",
              "      <td>0.163749</td>\n",
              "      <td>0.121633</td>\n",
              "      <td>0.089114</td>\n",
              "    </tr>\n",
              "    <tr>\n",
              "      <th>1</th>\n",
              "      <td>0.048933</td>\n",
              "      <td>0.055559</td>\n",
              "      <td>0.028447</td>\n",
              "      <td>0.291643</td>\n",
              "      <td>0.060745</td>\n",
              "      <td>0.115629</td>\n",
              "      <td>0.069795</td>\n",
              "      <td>0.140131</td>\n",
              "      <td>0.077924</td>\n",
              "      <td>0.111194</td>\n",
              "    </tr>\n",
              "  </tbody>\n",
              "</table>\n",
              "</div>"
            ],
            "text/plain": [
              "             topic_0   topic_1   topic_2  ...   topic_7   topic_8   topic_9\n",
              "good_score                                ...                              \n",
              "0           0.046504  0.049866  0.025134  ...  0.163749  0.121633  0.089114\n",
              "1           0.048933  0.055559  0.028447  ...  0.140131  0.077924  0.111194\n",
              "\n",
              "[2 rows x 10 columns]"
            ]
          },
          "metadata": {
            "tags": []
          },
          "execution_count": 28
        }
      ]
    },
    {
      "cell_type": "code",
      "metadata": {
        "id": "QGMAZObWkM7Z",
        "colab_type": "code",
        "outputId": "f4fa9fb2-0b14-4cd1-ffa2-0dd59e6d0501",
        "colab": {
          "base_uri": "https://localhost:8080/",
          "height": 191
        }
      },
      "source": [
        "for topic in topic_column_names:\n",
        "    print(\"{}: {}\".format(topic, sample_with_topics[topic].corr(sample_with_topics['Score'])))"
      ],
      "execution_count": 29,
      "outputs": [
        {
          "output_type": "stream",
          "text": [
            "topic_0: 0.025519441578261363\n",
            "topic_1: 0.020769454794250783\n",
            "topic_2: 0.026663898691414133\n",
            "topic_3: 0.06361757176393044\n",
            "topic_4: 0.07871292782698457\n",
            "topic_5: 0.0655971250900742\n",
            "topic_6: -0.15351752883902653\n",
            "topic_7: 0.005095615596520921\n",
            "topic_8: -0.15711097639240978\n",
            "topic_9: 0.023032254801414076\n"
          ],
          "name": "stdout"
        }
      ]
    },
    {
      "cell_type": "markdown",
      "metadata": {
        "id": "j-6ZwJyFkM7f",
        "colab_type": "text"
      },
      "source": [
        "Here's an example of a linear regression"
      ]
    },
    {
      "cell_type": "code",
      "metadata": {
        "id": "6vP0Az_OkM7g",
        "colab_type": "code",
        "outputId": "1be9a8da-41e8-4768-a461-514d2cb9d9a9",
        "colab": {
          "base_uri": "https://localhost:8080/",
          "height": 173
        }
      },
      "source": [
        "from sklearn import datasets, linear_model\n",
        "from sklearn.metrics import mean_squared_error, r2_score\n",
        "\n",
        "training_data = sample_with_topics[topic_column_names[:-1]] \n",
        "# We're leaving a column out to avoid multicollinearity\n",
        "\n",
        "regression = linear_model.LinearRegression()\n",
        "\n",
        "# Train the model using the training sets\n",
        "regression.fit(training_data, sample_with_topics['Score'])\n",
        "coefficients = regression.coef_\n",
        "for topic, coef in zip(topic_column_names[:-1], coefficients):\n",
        "  print(\"{}: {}\".format(topic, coef))"
      ],
      "execution_count": 30,
      "outputs": [
        {
          "output_type": "stream",
          "text": [
            "topic_0: 0.15149725353494317\n",
            "topic_1: 0.08751416056341133\n",
            "topic_2: 0.42051281916259403\n",
            "topic_3: 0.03660310963829044\n",
            "topic_4: 0.6524498317679657\n",
            "topic_5: 0.22648892211578306\n",
            "topic_6: -1.1120620186256902\n",
            "topic_7: -0.10002067164872161\n",
            "topic_8: -1.0832382962675375\n"
          ],
          "name": "stdout"
        }
      ]
    },
    {
      "cell_type": "markdown",
      "metadata": {
        "id": "nkdRbLFOkM7k",
        "colab_type": "text"
      },
      "source": [
        "Sadly Scikit-Learn doesn't make it easy to get p-values or a regression report like you'd normally expect of something like R or Stata.  Scikit-Learn is more about prediction than statistical analysis; for the latter, we can use Statsmodels.  "
      ]
    },
    {
      "cell_type": "code",
      "metadata": {
        "id": "mQhoNPl5kM7l",
        "colab_type": "code",
        "outputId": "67a54f95-e433-4cc8-8ce1-c96d2b67c4ae",
        "colab": {
          "base_uri": "https://localhost:8080/",
          "height": 572
        }
      },
      "source": [
        "import statsmodels.api as sm\n",
        "\n",
        "regression = sm.OLS(sample_with_topics['Score'], training_data)\n",
        "results = regression.fit()\n",
        "print(results.summary())"
      ],
      "execution_count": 31,
      "outputs": [
        {
          "output_type": "stream",
          "text": [
            "                                 OLS Regression Results                                \n",
            "=======================================================================================\n",
            "Dep. Variable:                  Score   R-squared (uncentered):                   0.862\n",
            "Model:                            OLS   Adj. R-squared (uncentered):              0.862\n",
            "Method:                 Least Squares   F-statistic:                              6961.\n",
            "Date:                Fri, 06 Dec 2019   Prob (F-statistic):                        0.00\n",
            "Time:                        19:02:10   Log-Likelihood:                         -19021.\n",
            "No. Observations:               10000   AIC:                                  3.806e+04\n",
            "Df Residuals:                    9991   BIC:                                  3.812e+04\n",
            "Df Model:                           9                                                  \n",
            "Covariance Type:            nonrobust                                                  \n",
            "==============================================================================\n",
            "                 coef    std err          t      P>|t|      [0.025      0.975]\n",
            "------------------------------------------------------------------------------\n",
            "topic_0        4.7913      0.130     36.823      0.000       4.536       5.046\n",
            "topic_1        5.0636      0.119     42.587      0.000       4.831       5.297\n",
            "topic_2        6.1840      0.270     22.875      0.000       5.654       6.714\n",
            "topic_3        4.4364      0.038    116.746      0.000       4.362       4.511\n",
            "topic_4        5.3358      0.119     44.691      0.000       5.102       5.570\n",
            "topic_5        4.6352      0.069     67.390      0.000       4.500       4.770\n",
            "topic_6        3.4204      0.081     42.463      0.000       3.263       3.578\n",
            "topic_7        4.2701      0.054     78.906      0.000       4.164       4.376\n",
            "topic_8        3.4018      0.076     44.641      0.000       3.252       3.551\n",
            "==============================================================================\n",
            "Omnibus:                      146.186   Durbin-Watson:                   1.952\n",
            "Prob(Omnibus):                  0.000   Jarque-Bera (JB):              258.751\n",
            "Skew:                          -0.088   Prob(JB):                     6.50e-57\n",
            "Kurtosis:                       3.768   Cond. No.                         7.53\n",
            "==============================================================================\n",
            "\n",
            "Warnings:\n",
            "[1] Standard Errors assume that the covariance matrix of the errors is correctly specified.\n"
          ],
          "name": "stdout"
        }
      ]
    },
    {
      "cell_type": "markdown",
      "metadata": {
        "id": "2f_w8SaHkM7s",
        "colab_type": "text"
      },
      "source": [
        "### K-Means Clustering"
      ]
    },
    {
      "cell_type": "markdown",
      "metadata": {
        "id": "irPRm24HkM7r",
        "colab_type": "text"
      },
      "source": [
        "We can also check out other unsupervised methods like clustering.  I borrowed/modified some of this code from http://brandonrose.org/clustering"
      ]
    },
    {
      "cell_type": "code",
      "metadata": {
        "id": "4fDUj6lmkM7t",
        "colab_type": "code",
        "colab": {}
      },
      "source": [
        "from sklearn.cluster import KMeans\n",
        "\n",
        "kmeans = KMeans(n_clusters=10, max_iter=50, tol=.01, n_jobs=-1)\n",
        "# http://scikit-learn.org/stable/modules/generated/sklearn.cluster.KMeans.html\n",
        "kmeans.fit(tfidf)\n",
        "clusters = kmeans.labels_.tolist() # You can merge these back into the data if you want"
      ],
      "execution_count": 0,
      "outputs": []
    },
    {
      "cell_type": "code",
      "metadata": {
        "id": "jM0j-kV5kM7w",
        "colab_type": "code",
        "outputId": "10e5d6fc-fb13-4569-eec5-7bbeae722d49",
        "colab": {
          "base_uri": "https://localhost:8080/",
          "height": 191
        }
      },
      "source": [
        "centroids = kmeans.cluster_centers_.argsort()[:, ::-1] \n",
        "for i, closest_ngrams in enumerate(centroids):\n",
        "    print(\"Cluster #{}: {}\".format(i, \", \".join(np.array(ngrams)[closest_ngrams[:8]])))"
      ],
      "execution_count": 33,
      "outputs": [
        {
          "output_type": "stream",
          "text": [
            "Cluster #0: cat, food, eat, love, treat, chicken, wellness, dry\n",
            "Cluster #1: product, price, great, store, good, buy, grocery, local\n",
            "Cluster #2: tea, taste, green, bag, drink, flavor, like, good\n",
            "Cluster #3: sauce, hot, pasta, taste, chicken, great, spicy, good\n",
            "Cluster #4: taste, like, flavor, chocolate, good, sugar, drink, just\n",
            "Cluster #5: dog, treat, food, love, chew, like, product, good\n",
            "Cluster #6: bar, chocolate, snack, like, taste, nut, protein, good\n",
            "Cluster #7: coffee, cup, flavor, like, strong, roast, good, taste\n",
            "Cluster #8: chip, potato, bag, flavor, snack, kettle, salt, like\n",
            "Cluster #9: love, great, just, good, time, like, make, bag\n"
          ],
          "name": "stdout"
        }
      ]
    },
    {
      "cell_type": "markdown",
      "metadata": {
        "id": "BEqDN_T5kM72",
        "colab_type": "text"
      },
      "source": [
        "### Agglomerative/Hierarchical Clustering"
      ]
    },
    {
      "cell_type": "markdown",
      "metadata": {
        "id": "ILDEuIfYs_Bk",
        "colab_type": "text"
      },
      "source": [
        "Instead of specifying the number of clusters upfront, now we're going to use hierarchical clustering to characterize how similar words are to each other, again based on their co-occurrence within documents. To keep things manageable, we'll use a smaller set of 500 words."
      ]
    },
    {
      "cell_type": "code",
      "metadata": {
        "id": "u7ewqzz9kM74",
        "colab_type": "code",
        "colab": {}
      },
      "source": [
        "# This Python library lets us produce graphics\n",
        "%matplotlib inline\n",
        "import matplotlib.pyplot as plt"
      ],
      "execution_count": 0,
      "outputs": []
    },
    {
      "cell_type": "code",
      "metadata": {
        "id": "THTuTZzDs6-Y",
        "colab_type": "code",
        "colab": {}
      },
      "source": [
        "tfidf_vectorizer = TfidfVectorizer(\n",
        "    max_df=0.25, # Focus on less common, more unique words\n",
        "    min_df=5, \n",
        "    ngram_range=(1, 1), \n",
        "    stop_words=stop_words, \n",
        "    max_features=200 # <- smaller set of words\n",
        ")\n",
        "tfidf = tfidf_vectorizer.fit_transform(sample['Text'])\n",
        "ngrams = tfidf_vectorizer.get_feature_names()"
      ],
      "execution_count": 0,
      "outputs": []
    },
    {
      "cell_type": "code",
      "metadata": {
        "id": "Ff1y98QakM7-",
        "colab_type": "code",
        "colab": {}
      },
      "source": [
        "from scipy.cluster.hierarchy import linkage, dendrogram\n",
        "from sklearn.metrics.pairwise import cosine_similarity\n",
        "\n",
        "# We'll use cosine similarity to get word similarities based on document overlap\n",
        "# This produces a matrix of every word compared to every other word\n",
        "# With a value of 0 - 1, indicating how often they occur together in the same documents\n",
        "# To get document similarities in terms of word overlap, just drop the .transpose()!\n",
        "similarities = cosine_similarity(tfidf.transpose()) \n",
        "distances = 1 - similarities # Converts to distances\n",
        "clusters = linkage(distances, method='ward') # Run hierarchical clustering on the distances"
      ],
      "execution_count": 0,
      "outputs": []
    },
    {
      "cell_type": "code",
      "metadata": {
        "id": "ksiZDPxskM8F",
        "colab_type": "code",
        "outputId": "f622346a-a629-4635-ce7e-2a15cea4d652",
        "colab": {
          "base_uri": "https://localhost:8080/",
          "height": 1000
        }
      },
      "source": [
        "fig, ax = plt.subplots(figsize=(10, 40))\n",
        "ax = dendrogram(\n",
        "    clusters, \n",
        "    labels=ngrams, \n",
        "    orientation=\"left\", \n",
        "    leaf_font_size=14, \n",
        "    color_threshold=1.5\n",
        ")\n",
        "plt.tight_layout()"
      ],
      "execution_count": 37,
      "outputs": [
        {
          "output_type": "display_data",
          "data": {
            "image/png": "[encoded data removed]",
            "text/plain": [
              "<Figure size 720x2880 with 1 Axes>"
            ]
          },
          "metadata": {
            "tags": []
          }
        }
      ]
    },
    {
      "cell_type": "code",
      "metadata": {
        "id": "bvdpJyodibbF",
        "colab_type": "code",
        "colab": {}
      },
      "source": [
        ""
      ],
      "execution_count": 0,
      "outputs": []
    }
  ]
}